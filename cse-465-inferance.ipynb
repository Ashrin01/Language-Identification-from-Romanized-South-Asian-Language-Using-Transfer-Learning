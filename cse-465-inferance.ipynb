{
 "cells": [
  {
   "cell_type": "code",
   "execution_count": 1,
   "metadata": {},
   "outputs": [],
   "source": [
    "import ktrain\n",
    "import numpy as np\n",
    "from ktrain import text\n",
    "import pandas as pd"
   ]
  },
  {
   "cell_type": "code",
   "execution_count": 2,
   "metadata": {
    "execution": {
     "iopub.execute_input": "2023-10-17T15:31:25.613609Z",
     "iopub.status.busy": "2023-10-17T15:31:25.613192Z",
     "iopub.status.idle": "2023-10-17T15:33:22.440473Z",
     "shell.execute_reply": "2023-10-17T15:33:22.437874Z",
     "shell.execute_reply.started": "2023-10-17T15:31:25.613577Z"
    }
   },
   "outputs": [],
   "source": [
    "#loading data\n",
    "df = pd.read_csv(\"Dummy_data.csv\",)\n",
    "\n",
    "X_train  =  df['Data'].values.tolist()\n",
    "y_train = df['Label'].tolist()\n",
    "\n",
    "X_test =  df['Data'].values.tolist()\n",
    "y_test = df['Label'].tolist()"
   ]
  },
  {
   "cell_type": "code",
   "execution_count": 3,
   "metadata": {
    "execution": {
     "iopub.execute_input": "2023-10-17T15:42:37.981010Z",
     "iopub.status.busy": "2023-10-17T15:42:37.980589Z",
     "iopub.status.idle": "2023-10-17T15:42:52.571322Z",
     "shell.execute_reply": "2023-10-17T15:42:52.570281Z",
     "shell.execute_reply.started": "2023-10-17T15:42:37.980978Z"
    }
   },
   "outputs": [
    {
     "name": "stderr",
     "output_type": "stream",
     "text": [
      "C:\\Users\\ashri\\Anaconda3\\envs\\tf\\lib\\site-packages\\ktrain\\text\\preprocessor.py:392: UserWarning: The method preprocess_train was never called. You can disable this warning by setting preprocess_train_called=True.\n",
      "  warnings.warn(\n",
      "C:\\Users\\ashri\\Anaconda3\\envs\\tf\\lib\\site-packages\\ktrain\\text\\preprocessor.py:1127: UserWarning: no class labels were provided - treating as regression\n",
      "  warnings.warn(\"no class labels were provided - treating as regression\")\n"
     ]
    }
   ],
   "source": [
    "#get orginal model\n",
    "MODEL_NAME = 'xlm-roberta-base'\n",
    "t = text.Transformer(MODEL_NAME, maxlen=500)\n",
    "model = t.get_classifier()"
   ]
  },
  {
   "cell_type": "code",
   "execution_count": 4,
   "metadata": {},
   "outputs": [
    {
     "name": "stdout",
     "output_type": "stream",
     "text": [
      "preprocessing train...\n",
      "language: id\n",
      "train sequence lengths:\n",
      "\tmean : 32\n",
      "\t95percentile : 130\n",
      "\t99percentile : 246\n"
     ]
    },
    {
     "data": {
      "text/html": [
       "\n",
       "<style>\n",
       "    /* Turns off some styling */\n",
       "    progress {\n",
       "        /* gets rid of default border in Firefox and Opera. */\n",
       "        border: none;\n",
       "        /* Needs to be in here for Safari polyfill so background images work as expected. */\n",
       "        background-size: auto;\n",
       "    }\n",
       "    progress:not([value]), progress:not([value])::-webkit-progress-bar {\n",
       "        background: repeating-linear-gradient(45deg, #7e7e7e, #7e7e7e 10px, #5c5c5c 10px, #5c5c5c 20px);\n",
       "    }\n",
       "    .progress-bar-interrupted, .progress-bar-interrupted::-webkit-progress-bar {\n",
       "        background: #F44336;\n",
       "    }\n",
       "</style>\n"
      ],
      "text/plain": [
       "<IPython.core.display.HTML object>"
      ]
     },
     "metadata": {},
     "output_type": "display_data"
    },
    {
     "data": {
      "text/html": [],
      "text/plain": [
       "<IPython.core.display.HTML object>"
      ]
     },
     "metadata": {},
     "output_type": "display_data"
    },
    {
     "name": "stdout",
     "output_type": "stream",
     "text": [
      "Is Multi-Label? False\n",
      "preprocessing test...\n",
      "language: id\n",
      "test sequence lengths:\n",
      "\tmean : 32\n",
      "\t95percentile : 130\n",
      "\t99percentile : 246\n"
     ]
    },
    {
     "data": {
      "text/html": [
       "\n",
       "<style>\n",
       "    /* Turns off some styling */\n",
       "    progress {\n",
       "        /* gets rid of default border in Firefox and Opera. */\n",
       "        border: none;\n",
       "        /* Needs to be in here for Safari polyfill so background images work as expected. */\n",
       "        background-size: auto;\n",
       "    }\n",
       "    progress:not([value]), progress:not([value])::-webkit-progress-bar {\n",
       "        background: repeating-linear-gradient(45deg, #7e7e7e, #7e7e7e 10px, #5c5c5c 10px, #5c5c5c 20px);\n",
       "    }\n",
       "    .progress-bar-interrupted, .progress-bar-interrupted::-webkit-progress-bar {\n",
       "        background: #F44336;\n",
       "    }\n",
       "</style>\n"
      ],
      "text/plain": [
       "<IPython.core.display.HTML object>"
      ]
     },
     "metadata": {},
     "output_type": "display_data"
    },
    {
     "data": {
      "text/html": [],
      "text/plain": [
       "<IPython.core.display.HTML object>"
      ]
     },
     "metadata": {},
     "output_type": "display_data"
    }
   ],
   "source": [
    "# create dummy data\n",
    "trn = t.preprocess_train(X_train, y_train)\n",
    "val = t.preprocess_test(X_test, y_test)"
   ]
  },
  {
   "cell_type": "code",
   "execution_count": 5,
   "metadata": {
    "execution": {
     "iopub.execute_input": "2023-10-17T15:51:18.080998Z",
     "iopub.status.busy": "2023-10-17T15:51:18.080563Z",
     "iopub.status.idle": "2023-10-17T15:51:18.088135Z",
     "shell.execute_reply": "2023-10-17T15:51:18.086792Z",
     "shell.execute_reply.started": "2023-10-17T15:51:18.080962Z"
    }
   },
   "outputs": [],
   "source": [
    "#creating learner object\n",
    "learner = ktrain.get_learner(model, train_data=trn,val_data=trn, batch_size=8)"
   ]
  },
  {
   "cell_type": "code",
   "execution_count": 6,
   "metadata": {
    "execution": {
     "iopub.execute_input": "2023-10-17T15:51:18.396307Z",
     "iopub.status.busy": "2023-10-17T15:51:18.395910Z",
     "iopub.status.idle": "2023-10-17T15:51:22.417818Z",
     "shell.execute_reply": "2023-10-17T15:51:22.416861Z",
     "shell.execute_reply.started": "2023-10-17T15:51:18.396273Z"
    }
   },
   "outputs": [],
   "source": [
    "#loading trained model (Previous traied using kaggle)\n",
    "learner.load_model('D:\\\\Shifa\\\\NSU\\\\CSE 465\\\\Notebook\\\\mental\\\\kaggle\\\\working\\\\lan_det', preproc=t)"
   ]
  },
  {
   "cell_type": "code",
   "execution_count": 7,
   "metadata": {
    "execution": {
     "iopub.execute_input": "2023-10-17T15:54:30.164625Z",
     "iopub.status.busy": "2023-10-17T15:54:30.164199Z",
     "iopub.status.idle": "2023-10-17T15:54:30.280525Z",
     "shell.execute_reply": "2023-10-17T15:54:30.279381Z",
     "shell.execute_reply.started": "2023-10-17T15:54:30.164591Z"
    }
   },
   "outputs": [],
   "source": [
    "predictor=ktrain.get_predictor(learner.model, preproc=t)"
   ]
  },
  {
   "cell_type": "code",
   "execution_count": 12,
   "metadata": {},
   "outputs": [
    {
     "name": "stdout",
     "output_type": "stream",
     "text": [
      "\n",
      "Please enter your text to check: yesterday i was eating rice\n",
      "\n",
      "Model output: Urdu\n"
     ]
    }
   ],
   "source": [
    "# Prompt the user for input and store it in a variable\n",
    "user_input = input(\"\\nPlease enter your text to check: \")\n",
    "result=predictor.predict(user_input)\n",
    "\n",
    "# Print the user's input\n",
    "print(\"\\nModel output:\", result)"
   ]
  },
  {
   "cell_type": "code",
   "execution_count": null,
   "metadata": {},
   "outputs": [],
   "source": []
  }
 ],
 "metadata": {
  "kernelspec": {
   "display_name": "Python 3 (ipykernel)",
   "language": "python",
   "name": "python3"
  },
  "language_info": {
   "codemirror_mode": {
    "name": "ipython",
    "version": 3
   },
   "file_extension": ".py",
   "mimetype": "text/x-python",
   "name": "python",
   "nbconvert_exporter": "python",
   "pygments_lexer": "ipython3",
   "version": "3.9.18"
  }
 },
 "nbformat": 4,
 "nbformat_minor": 4
}
