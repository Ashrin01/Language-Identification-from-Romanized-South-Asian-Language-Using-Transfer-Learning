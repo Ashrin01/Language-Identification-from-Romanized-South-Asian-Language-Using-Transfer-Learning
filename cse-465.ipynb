{
 "cells": [
  {
   "cell_type": "code",
   "execution_count": 1,
   "id": "778c0590",
   "metadata": {
    "execution": {
     "iopub.execute_input": "2023-09-30T17:42:31.111869Z",
     "iopub.status.busy": "2023-09-30T17:42:31.111546Z",
     "iopub.status.idle": "2023-09-30T17:42:33.223709Z",
     "shell.execute_reply": "2023-09-30T17:42:33.222771Z"
    },
    "id": "d32533c5",
    "papermill": {
     "duration": 2.120645,
     "end_time": "2023-09-30T17:42:33.225859",
     "exception": false,
     "start_time": "2023-09-30T17:42:31.105214",
     "status": "completed"
    },
    "tags": []
   },
   "outputs": [
    {
     "name": "stderr",
     "output_type": "stream",
     "text": [
      "/opt/conda/lib/python3.10/site-packages/scipy/__init__.py:146: UserWarning: A NumPy version >=1.16.5 and <1.23.0 is required for this version of SciPy (detected version 1.23.5\n",
      "  warnings.warn(f\"A NumPy version >={np_minversion} and <{np_maxversion}\"\n"
     ]
    }
   ],
   "source": [
    "import pandas as pd\n",
    "import numpy as np\n",
    "import nltk\n",
    "import matplotlib.pyplot as plt"
   ]
  },
  {
   "cell_type": "code",
   "execution_count": 2,
   "id": "cbd4c6c1",
   "metadata": {
    "execution": {
     "iopub.execute_input": "2023-09-30T17:42:33.237127Z",
     "iopub.status.busy": "2023-09-30T17:42:33.236750Z",
     "iopub.status.idle": "2023-09-30T17:42:33.309424Z",
     "shell.execute_reply": "2023-09-30T17:42:33.308476Z"
    },
    "papermill": {
     "duration": 0.080368,
     "end_time": "2023-09-30T17:42:33.311194",
     "exception": false,
     "start_time": "2023-09-30T17:42:33.230826",
     "status": "completed"
    },
    "tags": []
   },
   "outputs": [
    {
     "name": "stdout",
     "output_type": "stream",
     "text": [
      "[nltk_data] Downloading package stopwords to /usr/share/nltk_data...\n",
      "[nltk_data]   Package stopwords is already up-to-date!\n"
     ]
    }
   ],
   "source": [
    "# Import NLTK and download the stopwords list\n",
    "nltk.download('stopwords')\n",
    "from nltk.corpus import stopwords"
   ]
  },
  {
   "cell_type": "code",
   "execution_count": 3,
   "id": "5a42a4d8",
   "metadata": {
    "execution": {
     "iopub.execute_input": "2023-09-30T17:42:33.321462Z",
     "iopub.status.busy": "2023-09-30T17:42:33.320951Z",
     "iopub.status.idle": "2023-09-30T17:42:34.033767Z",
     "shell.execute_reply": "2023-09-30T17:42:34.032838Z"
    },
    "id": "bba016ba",
    "papermill": {
     "duration": 0.720206,
     "end_time": "2023-09-30T17:42:34.035913",
     "exception": false,
     "start_time": "2023-09-30T17:42:33.315707",
     "status": "completed"
    },
    "scrolled": true,
    "tags": []
   },
   "outputs": [],
   "source": [
    "df = pd.read_csv('/kaggle/input/south-asian-language-detection/Data.csv')"
   ]
  },
  {
   "cell_type": "code",
   "execution_count": 4,
   "id": "3d6f22d9",
   "metadata": {
    "execution": {
     "iopub.execute_input": "2023-09-30T17:42:34.046761Z",
     "iopub.status.busy": "2023-09-30T17:42:34.046178Z",
     "iopub.status.idle": "2023-09-30T17:42:34.061835Z",
     "shell.execute_reply": "2023-09-30T17:42:34.060979Z"
    },
    "id": "3c2ae414",
    "outputId": "e8ef9e85-dda0-4853-f1f3-64fd5ff173a1",
    "papermill": {
     "duration": 0.0227,
     "end_time": "2023-09-30T17:42:34.063516",
     "exception": false,
     "start_time": "2023-09-30T17:42:34.040816",
     "status": "completed"
    },
    "scrolled": true,
    "tags": []
   },
   "outputs": [
    {
     "data": {
      "text/html": [
       "<div>\n",
       "<style scoped>\n",
       "    .dataframe tbody tr th:only-of-type {\n",
       "        vertical-align: middle;\n",
       "    }\n",
       "\n",
       "    .dataframe tbody tr th {\n",
       "        vertical-align: top;\n",
       "    }\n",
       "\n",
       "    .dataframe thead th {\n",
       "        text-align: right;\n",
       "    }\n",
       "</style>\n",
       "<table border=\"1\" class=\"dataframe\">\n",
       "  <thead>\n",
       "    <tr style=\"text-align: right;\">\n",
       "      <th></th>\n",
       "      <th>Data</th>\n",
       "      <th>Label</th>\n",
       "    </tr>\n",
       "  </thead>\n",
       "  <tbody>\n",
       "    <tr>\n",
       "      <th>0</th>\n",
       "      <td>tob eghotonati onekei mittha bolechen.</td>\n",
       "      <td>Bengali</td>\n",
       "    </tr>\n",
       "    <tr>\n",
       "      <th>1</th>\n",
       "      <td>The book of the lover and the beloved</td>\n",
       "      <td>Bengali</td>\n",
       "    </tr>\n",
       "    <tr>\n",
       "      <th>2</th>\n",
       "      <td>open bsd</td>\n",
       "      <td>Bengali</td>\n",
       "    </tr>\n",
       "    <tr>\n",
       "      <th>3</th>\n",
       "      <td>Dole tini muloto danhati medium bowler hishebe...</td>\n",
       "      <td>Bengali</td>\n",
       "    </tr>\n",
       "    <tr>\n",
       "      <th>4</th>\n",
       "      <td>Bortomane bangladesher 8ti bibhager ontorgoto ...</td>\n",
       "      <td>Bengali</td>\n",
       "    </tr>\n",
       "  </tbody>\n",
       "</table>\n",
       "</div>"
      ],
      "text/plain": [
       "                                                Data    Label\n",
       "0             tob eghotonati onekei mittha bolechen.  Bengali\n",
       "1              The book of the lover and the beloved  Bengali\n",
       "2                                           open bsd  Bengali\n",
       "3  Dole tini muloto danhati medium bowler hishebe...  Bengali\n",
       "4  Bortomane bangladesher 8ti bibhager ontorgoto ...  Bengali"
      ]
     },
     "execution_count": 4,
     "metadata": {},
     "output_type": "execute_result"
    }
   ],
   "source": [
    "df.head()"
   ]
  },
  {
   "cell_type": "code",
   "execution_count": 5,
   "id": "1db9b48d",
   "metadata": {
    "execution": {
     "iopub.execute_input": "2023-09-30T17:42:34.074092Z",
     "iopub.status.busy": "2023-09-30T17:42:34.073682Z",
     "iopub.status.idle": "2023-09-30T17:42:34.092663Z",
     "shell.execute_reply": "2023-09-30T17:42:34.091874Z"
    },
    "id": "4d94877e",
    "papermill": {
     "duration": 0.02607,
     "end_time": "2023-09-30T17:42:34.094348",
     "exception": false,
     "start_time": "2023-09-30T17:42:34.068278",
     "status": "completed"
    },
    "tags": []
   },
   "outputs": [],
   "source": [
    "df.dropna(inplace=True)"
   ]
  },
  {
   "cell_type": "code",
   "execution_count": 6,
   "id": "a96dae1f",
   "metadata": {
    "execution": {
     "iopub.execute_input": "2023-09-30T17:42:34.104590Z",
     "iopub.status.busy": "2023-09-30T17:42:34.104347Z",
     "iopub.status.idle": "2023-09-30T17:42:34.111294Z",
     "shell.execute_reply": "2023-09-30T17:42:34.110426Z"
    },
    "papermill": {
     "duration": 0.013973,
     "end_time": "2023-09-30T17:42:34.112982",
     "exception": false,
     "start_time": "2023-09-30T17:42:34.099009",
     "status": "completed"
    },
    "tags": []
   },
   "outputs": [
    {
     "data": {
      "text/plain": [
       "<bound method DataFrame.info of                                                      Data    Label\n",
       "0                  tob eghotonati onekei mittha bolechen.  Bengali\n",
       "1                   The book of the lover and the beloved  Bengali\n",
       "2                                                open bsd  Bengali\n",
       "3       Dole tini muloto danhati medium bowler hishebe...  Bengali\n",
       "4       Bortomane bangladesher 8ti bibhager ontorgoto ...  Bengali\n",
       "...                                                   ...      ...\n",
       "129093  Although Casper van Dien and Michael Rooker ar...  English\n",
       "129094  I liked this movie. I wasn't really sure what ...  English\n",
       "129095  Yes non-Singaporean's can't see what's the big...  English\n",
       "129096  As far as films go, this is likable enough. En...  English\n",
       "129097  I saw Anatomy years ago -- dubbed at a friends...  English\n",
       "\n",
       "[129098 rows x 2 columns]>"
      ]
     },
     "execution_count": 6,
     "metadata": {},
     "output_type": "execute_result"
    }
   ],
   "source": [
    "df.info"
   ]
  },
  {
   "cell_type": "code",
   "execution_count": 7,
   "id": "e086fa23",
   "metadata": {
    "execution": {
     "iopub.execute_input": "2023-09-30T17:42:34.123513Z",
     "iopub.status.busy": "2023-09-30T17:42:34.123283Z",
     "iopub.status.idle": "2023-09-30T17:42:34.139961Z",
     "shell.execute_reply": "2023-09-30T17:42:34.139182Z"
    },
    "papermill": {
     "duration": 0.023817,
     "end_time": "2023-09-30T17:42:34.141656",
     "exception": false,
     "start_time": "2023-09-30T17:42:34.117839",
     "status": "completed"
    },
    "tags": []
   },
   "outputs": [],
   "source": [
    "# Shuffle the DataFrame randomly\n",
    "df = df.sample(frac=1, random_state=42)"
   ]
  },
  {
   "cell_type": "code",
   "execution_count": 8,
   "id": "d87a31ad",
   "metadata": {
    "execution": {
     "iopub.execute_input": "2023-09-30T17:42:34.152018Z",
     "iopub.status.busy": "2023-09-30T17:42:34.151788Z",
     "iopub.status.idle": "2023-09-30T17:42:34.168573Z",
     "shell.execute_reply": "2023-09-30T17:42:34.167748Z"
    },
    "id": "7bcb0ed6",
    "outputId": "cc9ebe1c-d813-4163-a681-d038dc3a3f09",
    "papermill": {
     "duration": 0.023863,
     "end_time": "2023-09-30T17:42:34.170227",
     "exception": false,
     "start_time": "2023-09-30T17:42:34.146364",
     "status": "completed"
    },
    "tags": []
   },
   "outputs": [
    {
     "data": {
      "text/plain": [
       "Label\n",
       "English      10000\n",
       "Kannada       9978\n",
       "Gujarati      9967\n",
       "Bengali       9964\n",
       "Malayalam     9964\n",
       "Sindhi        9962\n",
       "Sinhala       9958\n",
       "Punjabi       9954\n",
       "Marathi       9941\n",
       "Telugu        9929\n",
       "Tamil         9924\n",
       "Hindi         9917\n",
       "Urdu          9640\n",
       "Name: count, dtype: int64"
      ]
     },
     "execution_count": 8,
     "metadata": {},
     "output_type": "execute_result"
    }
   ],
   "source": [
    "df[\"Label\"].value_counts()"
   ]
  },
  {
   "cell_type": "code",
   "execution_count": 9,
   "id": "245679c0",
   "metadata": {
    "execution": {
     "iopub.execute_input": "2023-09-30T17:42:34.181041Z",
     "iopub.status.busy": "2023-09-30T17:42:34.180297Z",
     "iopub.status.idle": "2023-09-30T17:42:34.185251Z",
     "shell.execute_reply": "2023-09-30T17:42:34.184463Z"
    },
    "papermill": {
     "duration": 0.011913,
     "end_time": "2023-09-30T17:42:34.186878",
     "exception": false,
     "start_time": "2023-09-30T17:42:34.174965",
     "status": "completed"
    },
    "tags": []
   },
   "outputs": [],
   "source": [
    "# Define a function to clean non-English text\n",
    "def clean_non_english(text, label):\n",
    "    if label == 'English':\n",
    "        return text\n",
    "    else:\n",
    "        # Tokenize the text into words\n",
    "        words = nltk.word_tokenize(text)\n",
    "        \n",
    "        # Filter out stopwords and non-English words\n",
    "        english_words = [word for word in words if word.lower() not in stopwords.words('english')]\n",
    "\n",
    "        # Reconstruct the cleaned text from the filtered words\n",
    "        cleaned_text = ' '.join(english_words)\n",
    "        \n",
    "        return cleaned_text"
   ]
  },
  {
   "cell_type": "code",
   "execution_count": 10,
   "id": "a9250059",
   "metadata": {
    "execution": {
     "iopub.execute_input": "2023-09-30T17:42:34.207819Z",
     "iopub.status.busy": "2023-09-30T17:42:34.207320Z",
     "iopub.status.idle": "2023-09-30T17:45:48.850672Z",
     "shell.execute_reply": "2023-09-30T17:45:48.849734Z"
    },
    "papermill": {
     "duration": 194.658116,
     "end_time": "2023-09-30T17:45:48.852944",
     "exception": false,
     "start_time": "2023-09-30T17:42:34.194828",
     "status": "completed"
    },
    "tags": []
   },
   "outputs": [],
   "source": [
    "# Apply the cleaning function to the 'Data' column\n",
    "df['Data'] = df.apply(lambda row: clean_non_english(row['Data'], row['Label']), axis=1)"
   ]
  },
  {
   "cell_type": "code",
   "execution_count": 11,
   "id": "5026a961",
   "metadata": {
    "execution": {
     "iopub.execute_input": "2023-09-30T17:45:48.864903Z",
     "iopub.status.busy": "2023-09-30T17:45:48.864037Z",
     "iopub.status.idle": "2023-09-30T17:45:48.912482Z",
     "shell.execute_reply": "2023-09-30T17:45:48.911630Z"
    },
    "papermill": {
     "duration": 0.056173,
     "end_time": "2023-09-30T17:45:48.914316",
     "exception": false,
     "start_time": "2023-09-30T17:45:48.858143",
     "status": "completed"
    },
    "tags": []
   },
   "outputs": [],
   "source": [
    "# Filter out rows where 'Data' is empty after cleaning\n",
    "filtered_df = df[df['Data'].str.strip() != '']"
   ]
  },
  {
   "cell_type": "code",
   "execution_count": 12,
   "id": "d00e1234",
   "metadata": {
    "execution": {
     "iopub.execute_input": "2023-09-30T17:45:48.925217Z",
     "iopub.status.busy": "2023-09-30T17:45:48.924963Z",
     "iopub.status.idle": "2023-09-30T17:45:48.928919Z",
     "shell.execute_reply": "2023-09-30T17:45:48.928077Z"
    },
    "papermill": {
     "duration": 0.011343,
     "end_time": "2023-09-30T17:45:48.930583",
     "exception": false,
     "start_time": "2023-09-30T17:45:48.919240",
     "status": "completed"
    },
    "tags": []
   },
   "outputs": [],
   "source": [
    "# Reset the index of the filtered DataFrame\n",
    "filtered_df.reset_index(drop=True, inplace=True)"
   ]
  },
  {
   "cell_type": "code",
   "execution_count": 13,
   "id": "361cb631",
   "metadata": {
    "execution": {
     "iopub.execute_input": "2023-09-30T17:45:48.941200Z",
     "iopub.status.busy": "2023-09-30T17:45:48.940968Z",
     "iopub.status.idle": "2023-09-30T17:45:48.953999Z",
     "shell.execute_reply": "2023-09-30T17:45:48.953068Z"
    },
    "papermill": {
     "duration": 0.020202,
     "end_time": "2023-09-30T17:45:48.955591",
     "exception": false,
     "start_time": "2023-09-30T17:45:48.935389",
     "status": "completed"
    },
    "tags": []
   },
   "outputs": [
    {
     "data": {
      "text/plain": [
       "Label\n",
       "English      10000\n",
       "Kannada       9978\n",
       "Gujarati      9967\n",
       "Malayalam     9964\n",
       "Bengali       9963\n",
       "Sindhi        9960\n",
       "Sinhala       9958\n",
       "Punjabi       9954\n",
       "Marathi       9939\n",
       "Telugu        9928\n",
       "Tamil         9924\n",
       "Hindi         9917\n",
       "Urdu          9638\n",
       "Name: count, dtype: int64"
      ]
     },
     "execution_count": 13,
     "metadata": {},
     "output_type": "execute_result"
    }
   ],
   "source": [
    "filtered_df[\"Label\"].value_counts()"
   ]
  },
  {
   "cell_type": "code",
   "execution_count": 14,
   "id": "8b4c0940",
   "metadata": {
    "execution": {
     "iopub.execute_input": "2023-09-30T17:45:48.967099Z",
     "iopub.status.busy": "2023-09-30T17:45:48.966309Z",
     "iopub.status.idle": "2023-09-30T17:45:48.973370Z",
     "shell.execute_reply": "2023-09-30T17:45:48.972588Z"
    },
    "id": "SkHget_6VKIl",
    "papermill": {
     "duration": 0.014288,
     "end_time": "2023-09-30T17:45:48.975057",
     "exception": false,
     "start_time": "2023-09-30T17:45:48.960769",
     "status": "completed"
    },
    "tags": []
   },
   "outputs": [],
   "source": [
    "text = filtered_df['Data'].values.tolist()\n",
    "label = filtered_df['Label'].tolist()"
   ]
  },
  {
   "cell_type": "code",
   "execution_count": 15,
   "id": "4161c427",
   "metadata": {
    "execution": {
     "iopub.execute_input": "2023-09-30T17:45:48.985832Z",
     "iopub.status.busy": "2023-09-30T17:45:48.985587Z",
     "iopub.status.idle": "2023-09-30T17:45:49.127536Z",
     "shell.execute_reply": "2023-09-30T17:45:49.126491Z"
    },
    "id": "oAFSbfrQVTDr",
    "papermill": {
     "duration": 0.149935,
     "end_time": "2023-09-30T17:45:49.129831",
     "exception": false,
     "start_time": "2023-09-30T17:45:48.979896",
     "status": "completed"
    },
    "tags": []
   },
   "outputs": [],
   "source": [
    "from sklearn.model_selection import train_test_split\n",
    "X_train, X_test, y_train, y_test = train_test_split(text , label, test_size=0.2, stratify=label, random_state=42)"
   ]
  },
  {
   "cell_type": "code",
   "execution_count": 16,
   "id": "dd3b20bb",
   "metadata": {
    "execution": {
     "iopub.execute_input": "2023-09-30T17:45:49.142691Z",
     "iopub.status.busy": "2023-09-30T17:45:49.142398Z",
     "iopub.status.idle": "2023-09-30T17:46:29.521184Z",
     "shell.execute_reply": "2023-09-30T17:46:29.519956Z"
    },
    "id": "CvFy-VwTi8uZ",
    "outputId": "0e362827-d491-4792-8651-cd09e21a2d22",
    "papermill": {
     "duration": 40.387363,
     "end_time": "2023-09-30T17:46:29.523136",
     "exception": false,
     "start_time": "2023-09-30T17:45:49.135773",
     "status": "completed"
    },
    "tags": []
   },
   "outputs": [
    {
     "name": "stdout",
     "output_type": "stream",
     "text": [
      "Collecting ktrain\r\n",
      "  Downloading ktrain-0.38.0.tar.gz (25.3 MB)\r\n",
      "\u001b[2K     \u001b[90m━━━━━━━━━━━━━━━━━━━━━━━━━━━━━━━━━━━━━━━━\u001b[0m \u001b[32m25.3/25.3 MB\u001b[0m \u001b[31m43.0 MB/s\u001b[0m eta \u001b[36m0:00:00\u001b[0m\r\n",
      "\u001b[?25h  Preparing metadata (setup.py) ... \u001b[?25ldone\r\n",
      "\u001b[?25hRequirement already satisfied: scikit-learn in /opt/conda/lib/python3.10/site-packages (from ktrain) (1.2.2)\r\n",
      "Requirement already satisfied: matplotlib>=3.0.0 in /opt/conda/lib/python3.10/site-packages (from ktrain) (3.7.2)\r\n",
      "Requirement already satisfied: pandas>=1.0.1 in /opt/conda/lib/python3.10/site-packages (from ktrain) (2.0.2)\r\n",
      "Requirement already satisfied: fastprogress>=0.1.21 in /opt/conda/lib/python3.10/site-packages (from ktrain) (1.0.3)\r\n",
      "Requirement already satisfied: requests in /opt/conda/lib/python3.10/site-packages (from ktrain) (2.31.0)\r\n",
      "Requirement already satisfied: joblib in /opt/conda/lib/python3.10/site-packages (from ktrain) (1.3.2)\r\n",
      "Requirement already satisfied: packaging in /opt/conda/lib/python3.10/site-packages (from ktrain) (21.3)\r\n",
      "Collecting langdetect (from ktrain)\r\n",
      "  Downloading langdetect-1.0.9.tar.gz (981 kB)\r\n",
      "\u001b[2K     \u001b[90m━━━━━━━━━━━━━━━━━━━━━━━━━━━━━━━━━━━━━━\u001b[0m \u001b[32m981.5/981.5 kB\u001b[0m \u001b[31m52.0 MB/s\u001b[0m eta \u001b[36m0:00:00\u001b[0m\r\n",
      "\u001b[?25h  Preparing metadata (setup.py) ... \u001b[?25ldone\r\n",
      "\u001b[?25hRequirement already satisfied: jieba in /opt/conda/lib/python3.10/site-packages (from ktrain) (0.42.1)\r\n",
      "Collecting cchardet (from ktrain)\r\n",
      "  Downloading cchardet-2.1.7.tar.gz (653 kB)\r\n",
      "\u001b[2K     \u001b[90m━━━━━━━━━━━━━━━━━━━━━━━━━━━━━━━━━━━━━━\u001b[0m \u001b[32m653.6/653.6 kB\u001b[0m \u001b[31m40.3 MB/s\u001b[0m eta \u001b[36m0:00:00\u001b[0m\r\n",
      "\u001b[?25h  Preparing metadata (setup.py) ... \u001b[?25l-\b \bdone\r\n",
      "\u001b[?25hCollecting chardet (from ktrain)\r\n",
      "  Downloading chardet-5.2.0-py3-none-any.whl (199 kB)\r\n",
      "\u001b[2K     \u001b[90m━━━━━━━━━━━━━━━━━━━━━━━━━━━━━━━━━━━━━━\u001b[0m \u001b[32m199.4/199.4 kB\u001b[0m \u001b[31m12.7 MB/s\u001b[0m eta \u001b[36m0:00:00\u001b[0m\r\n",
      "\u001b[?25hCollecting syntok>1.3.3 (from ktrain)\r\n",
      "  Downloading syntok-1.4.4-py3-none-any.whl (24 kB)\r\n",
      "Collecting tika (from ktrain)\r\n",
      "  Downloading tika-2.6.0.tar.gz (27 kB)\r\n",
      "  Preparing metadata (setup.py) ... \u001b[?25ldone\r\n",
      "\u001b[?25hRequirement already satisfied: transformers>=4.17.0 in /opt/conda/lib/python3.10/site-packages (from ktrain) (4.33.0)\r\n",
      "Requirement already satisfied: sentencepiece in /opt/conda/lib/python3.10/site-packages (from ktrain) (0.1.99)\r\n",
      "Collecting keras_bert>=0.86.0 (from ktrain)\r\n",
      "  Downloading keras-bert-0.89.0.tar.gz (25 kB)\r\n",
      "  Preparing metadata (setup.py) ... \u001b[?25ldone\r\n",
      "\u001b[?25hCollecting whoosh (from ktrain)\r\n",
      "  Downloading Whoosh-2.7.4-py2.py3-none-any.whl (468 kB)\r\n",
      "\u001b[2K     \u001b[90m━━━━━━━━━━━━━━━━━━━━━━━━━━━━━━━━━━━━━━\u001b[0m \u001b[32m468.8/468.8 kB\u001b[0m \u001b[31m36.2 MB/s\u001b[0m eta \u001b[36m0:00:00\u001b[0m\r\n",
      "\u001b[?25hRequirement already satisfied: numpy in /opt/conda/lib/python3.10/site-packages (from keras_bert>=0.86.0->ktrain) (1.23.5)\r\n",
      "Collecting keras-transformer==0.40.0 (from keras_bert>=0.86.0->ktrain)\r\n",
      "  Downloading keras-transformer-0.40.0.tar.gz (9.7 kB)\r\n",
      "  Preparing metadata (setup.py) ... \u001b[?25ldone\r\n",
      "\u001b[?25hCollecting keras-pos-embd==0.13.0 (from keras-transformer==0.40.0->keras_bert>=0.86.0->ktrain)\r\n",
      "  Downloading keras-pos-embd-0.13.0.tar.gz (5.6 kB)\r\n",
      "  Preparing metadata (setup.py) ... \u001b[?25ldone\r\n",
      "\u001b[?25hCollecting keras-multi-head==0.29.0 (from keras-transformer==0.40.0->keras_bert>=0.86.0->ktrain)\r\n",
      "  Downloading keras-multi-head-0.29.0.tar.gz (13 kB)\r\n",
      "  Preparing metadata (setup.py) ... \u001b[?25ldone\r\n",
      "\u001b[?25hCollecting keras-layer-normalization==0.16.0 (from keras-transformer==0.40.0->keras_bert>=0.86.0->ktrain)\r\n",
      "  Downloading keras-layer-normalization-0.16.0.tar.gz (3.9 kB)\r\n",
      "  Preparing metadata (setup.py) ... \u001b[?25ldone\r\n",
      "\u001b[?25hCollecting keras-position-wise-feed-forward==0.8.0 (from keras-transformer==0.40.0->keras_bert>=0.86.0->ktrain)\r\n",
      "  Downloading keras-position-wise-feed-forward-0.8.0.tar.gz (4.1 kB)\r\n",
      "  Preparing metadata (setup.py) ... \u001b[?25ldone\r\n",
      "\u001b[?25hCollecting keras-embed-sim==0.10.0 (from keras-transformer==0.40.0->keras_bert>=0.86.0->ktrain)\r\n",
      "  Downloading keras-embed-sim-0.10.0.tar.gz (3.6 kB)\r\n",
      "  Preparing metadata (setup.py) ... \u001b[?25ldone\r\n",
      "\u001b[?25hCollecting keras-self-attention==0.51.0 (from keras-multi-head==0.29.0->keras-transformer==0.40.0->keras_bert>=0.86.0->ktrain)\r\n",
      "  Downloading keras-self-attention-0.51.0.tar.gz (11 kB)\r\n",
      "  Preparing metadata (setup.py) ... \u001b[?25ldone\r\n",
      "\u001b[?25hRequirement already satisfied: contourpy>=1.0.1 in /opt/conda/lib/python3.10/site-packages (from matplotlib>=3.0.0->ktrain) (1.1.0)\r\n",
      "Requirement already satisfied: cycler>=0.10 in /opt/conda/lib/python3.10/site-packages (from matplotlib>=3.0.0->ktrain) (0.11.0)\r\n",
      "Requirement already satisfied: fonttools>=4.22.0 in /opt/conda/lib/python3.10/site-packages (from matplotlib>=3.0.0->ktrain) (4.40.0)\r\n",
      "Requirement already satisfied: kiwisolver>=1.0.1 in /opt/conda/lib/python3.10/site-packages (from matplotlib>=3.0.0->ktrain) (1.4.4)\r\n",
      "Requirement already satisfied: pillow>=6.2.0 in /opt/conda/lib/python3.10/site-packages (from matplotlib>=3.0.0->ktrain) (9.5.0)\r\n",
      "Requirement already satisfied: pyparsing<3.1,>=2.3.1 in /opt/conda/lib/python3.10/site-packages (from matplotlib>=3.0.0->ktrain) (3.0.9)\r\n",
      "Requirement already satisfied: python-dateutil>=2.7 in /opt/conda/lib/python3.10/site-packages (from matplotlib>=3.0.0->ktrain) (2.8.2)\r\n",
      "Requirement already satisfied: pytz>=2020.1 in /opt/conda/lib/python3.10/site-packages (from pandas>=1.0.1->ktrain) (2023.3)\r\n",
      "Requirement already satisfied: tzdata>=2022.1 in /opt/conda/lib/python3.10/site-packages (from pandas>=1.0.1->ktrain) (2023.3)\r\n",
      "Requirement already satisfied: regex>2016 in /opt/conda/lib/python3.10/site-packages (from syntok>1.3.3->ktrain) (2023.6.3)\r\n",
      "Requirement already satisfied: filelock in /opt/conda/lib/python3.10/site-packages (from transformers>=4.17.0->ktrain) (3.12.2)\r\n",
      "Requirement already satisfied: huggingface-hub<1.0,>=0.15.1 in /opt/conda/lib/python3.10/site-packages (from transformers>=4.17.0->ktrain) (0.16.4)\r\n",
      "Requirement already satisfied: pyyaml>=5.1 in /opt/conda/lib/python3.10/site-packages (from transformers>=4.17.0->ktrain) (6.0)\r\n",
      "Requirement already satisfied: tokenizers!=0.11.3,<0.14,>=0.11.1 in /opt/conda/lib/python3.10/site-packages (from transformers>=4.17.0->ktrain) (0.13.3)\r\n",
      "Requirement already satisfied: safetensors>=0.3.1 in /opt/conda/lib/python3.10/site-packages (from transformers>=4.17.0->ktrain) (0.3.3)\r\n",
      "Requirement already satisfied: tqdm>=4.27 in /opt/conda/lib/python3.10/site-packages (from transformers>=4.17.0->ktrain) (4.66.1)\r\n",
      "Requirement already satisfied: six in /opt/conda/lib/python3.10/site-packages (from langdetect->ktrain) (1.16.0)\r\n",
      "Requirement already satisfied: charset-normalizer<4,>=2 in /opt/conda/lib/python3.10/site-packages (from requests->ktrain) (3.1.0)\r\n",
      "Requirement already satisfied: idna<4,>=2.5 in /opt/conda/lib/python3.10/site-packages (from requests->ktrain) (3.4)\r\n",
      "Requirement already satisfied: urllib3<3,>=1.21.1 in /opt/conda/lib/python3.10/site-packages (from requests->ktrain) (1.26.15)\r\n",
      "Requirement already satisfied: certifi>=2017.4.17 in /opt/conda/lib/python3.10/site-packages (from requests->ktrain) (2023.7.22)\r\n",
      "Requirement already satisfied: scipy>=1.3.2 in /opt/conda/lib/python3.10/site-packages (from scikit-learn->ktrain) (1.11.2)\r\n",
      "Requirement already satisfied: threadpoolctl>=2.0.0 in /opt/conda/lib/python3.10/site-packages (from scikit-learn->ktrain) (3.1.0)\r\n",
      "Requirement already satisfied: setuptools in /opt/conda/lib/python3.10/site-packages (from tika->ktrain) (68.0.0)\r\n",
      "Requirement already satisfied: fsspec in /opt/conda/lib/python3.10/site-packages (from huggingface-hub<1.0,>=0.15.1->transformers>=4.17.0->ktrain) (2023.9.0)\r\n",
      "Requirement already satisfied: typing-extensions>=3.7.4.3 in /opt/conda/lib/python3.10/site-packages (from huggingface-hub<1.0,>=0.15.1->transformers>=4.17.0->ktrain) (4.6.3)\r\n",
      "Building wheels for collected packages: ktrain, keras_bert, keras-transformer, keras-embed-sim, keras-layer-normalization, keras-multi-head, keras-pos-embd, keras-position-wise-feed-forward, keras-self-attention, cchardet, langdetect, tika\r\n",
      "  Building wheel for ktrain (setup.py) ... \u001b[?25l-\b \bdone\r\n",
      "\u001b[?25h  Created wheel for ktrain: filename=ktrain-0.38.0-py3-none-any.whl size=25319964 sha256=24e63b9b385e183815bda9357cb0e40a586766bab40155aaba52f39cf8242d76\r\n",
      "  Stored in directory: /root/.cache/pip/wheels/10/76/6b/5799f396ca78a8c38c7c6439a192ca88538a97cfb970946da5\r\n",
      "  Building wheel for keras_bert (setup.py) ... \u001b[?25l-\b \bdone\r\n",
      "\u001b[?25h  Created wheel for keras_bert: filename=keras_bert-0.89.0-py3-none-any.whl size=33501 sha256=ff82dd281977560ed683e1339733e524f139564e2845fecb47773428434e9f78\r\n",
      "  Stored in directory: /root/.cache/pip/wheels/89/0c/04/646b6fdf6375911b42c8d540a8a3fda8d5d77634e5dcbe7b26\r\n",
      "  Building wheel for keras-transformer (setup.py) ... \u001b[?25l-\b \bdone\r\n",
      "\u001b[?25h  Created wheel for keras-transformer: filename=keras_transformer-0.40.0-py3-none-any.whl size=12287 sha256=2d82eb2bd21187d9cf66c6de5d1415eb27bf96712026379c227c3c03e361323c\r\n",
      "  Stored in directory: /root/.cache/pip/wheels/f2/cb/22/75a0ad376129177f7c95c0d91331a18f5368fd657f4035ba7c\r\n",
      "  Building wheel for keras-embed-sim (setup.py) ... \u001b[?25l-\b \bdone\r\n",
      "\u001b[?25h  Created wheel for keras-embed-sim: filename=keras_embed_sim-0.10.0-py3-none-any.whl size=3943 sha256=bcbc816ea211c5a178f463ed59dce3210fb9ba00da75613c9e70dfb1cfd588f8\r\n",
      "  Stored in directory: /root/.cache/pip/wheels/82/32/c7/fd35d0d1b840a6c7cbd4343f808d10d0f7b87d271a4dbe796f\r\n",
      "  Building wheel for keras-layer-normalization (setup.py) ... \u001b[?25l-\b \bdone\r\n",
      "\u001b[?25h  Created wheel for keras-layer-normalization: filename=keras_layer_normalization-0.16.0-py3-none-any.whl size=4653 sha256=49c0cc4f190e0c11e47917ae7cc197aff6a1d8504a690fd1ef0445531b69860f\r\n",
      "  Stored in directory: /root/.cache/pip/wheels/ed/3a/4b/21db23c0cc56c4b219616e181f258eb7c57d36cc5d056fae9a\r\n",
      "  Building wheel for keras-multi-head (setup.py) ... \u001b[?25l-\b \bdone\r\n",
      "\u001b[?25h  Created wheel for keras-multi-head: filename=keras_multi_head-0.29.0-py3-none-any.whl size=14979 sha256=b5b9049349dce6d31dd9181746a6a24252d6ce172ba3e94bd8b2738b84a5c07d\r\n",
      "  Stored in directory: /root/.cache/pip/wheels/cb/23/4b/06d7ae21714f70fcc25b48f972cc8e5e7f4b6b764a038b509d\r\n",
      "  Building wheel for keras-pos-embd (setup.py) ... \u001b[?25l-\b \bdone\r\n",
      "\u001b[?25h  Created wheel for keras-pos-embd: filename=keras_pos_embd-0.13.0-py3-none-any.whl size=6946 sha256=b0f8f412b82224293461d261938d1fd061895d351169ed6da6f0aefd3c1cc8cd\r\n",
      "  Stored in directory: /root/.cache/pip/wheels/78/07/1b/b1ca47b6ac338554b75c8f52c54e6a2bfbe1b07d79579979a4\r\n",
      "  Building wheel for keras-position-wise-feed-forward (setup.py) ... \u001b[?25l-\b \bdone\r\n",
      "\u001b[?25h  Created wheel for keras-position-wise-feed-forward: filename=keras_position_wise_feed_forward-0.8.0-py3-none-any.whl size=4968 sha256=19e4a8f0251d91d2685c8d55d8d524b760223bc81f9027c3e01a5b14fabdf918\r\n",
      "  Stored in directory: /root/.cache/pip/wheels/c1/6a/04/d1706a53b23b2cb5f9a0a76269bf87925daa1bca09eac01b21\r\n",
      "  Building wheel for keras-self-attention (setup.py) ... \u001b[?25l-\b \bdone\r\n",
      "\u001b[?25h  Created wheel for keras-self-attention: filename=keras_self_attention-0.51.0-py3-none-any.whl size=18895 sha256=e3bad84b7dfee4a88a0022401628e51c7e92b1f9e718ac5ee4cf9b8f3a314415\r\n",
      "  Stored in directory: /root/.cache/pip/wheels/b8/f7/24/607b483144fb9c47b4ba2c5fba6b68e54aeee2d5bf6c05302e\r\n",
      "  Building wheel for cchardet (setup.py) ... \u001b[?25l-\b \b\\\b \bdone\r\n",
      "\u001b[?25h  Created wheel for cchardet: filename=cchardet-2.1.7-cp310-cp310-linux_x86_64.whl size=133763 sha256=f7e5e3c03746c8b69317e4b4dc95974fb86d4709c6149797f1e55a7de093d0d8\r\n",
      "  Stored in directory: /root/.cache/pip/wheels/ee/e0/ab/e01326f15c59438d080b1496dbab8091e952ec72f35e3c437e\r\n",
      "  Building wheel for langdetect (setup.py) ... \u001b[?25l-\b \bdone\r\n",
      "\u001b[?25h  Created wheel for langdetect: filename=langdetect-1.0.9-py3-none-any.whl size=993224 sha256=0635e48b3367207e25c8f7fc73d52f8d6b9ba5dbd2d24bd52ab172430af7cbb4\r\n",
      "  Stored in directory: /root/.cache/pip/wheels/95/03/7d/59ea870c70ce4e5a370638b5462a7711ab78fba2f655d05106\r\n",
      "  Building wheel for tika (setup.py) ... \u001b[?25l-\b \bdone\r\n",
      "\u001b[?25h  Created wheel for tika: filename=tika-2.6.0-py3-none-any.whl size=32625 sha256=15dd656e4cb989d0d22ca1fa3200e3d81a179027c5dd495a49fd775feec7c688\r\n",
      "  Stored in directory: /root/.cache/pip/wheels/5f/71/c7/b757709531121b1700cffda5b6b0d4aad095fb507ec84316d0\r\n",
      "Successfully built ktrain keras_bert keras-transformer keras-embed-sim keras-layer-normalization keras-multi-head keras-pos-embd keras-position-wise-feed-forward keras-self-attention cchardet langdetect tika\r\n",
      "Installing collected packages: whoosh, cchardet, syntok, langdetect, keras-self-attention, keras-position-wise-feed-forward, keras-pos-embd, keras-layer-normalization, keras-embed-sim, chardet, tika, keras-multi-head, keras-transformer, keras_bert, ktrain\r\n",
      "Successfully installed cchardet-2.1.7 chardet-5.2.0 keras-embed-sim-0.10.0 keras-layer-normalization-0.16.0 keras-multi-head-0.29.0 keras-pos-embd-0.13.0 keras-position-wise-feed-forward-0.8.0 keras-self-attention-0.51.0 keras-transformer-0.40.0 keras_bert-0.89.0 ktrain-0.38.0 langdetect-1.0.9 syntok-1.4.4 tika-2.6.0 whoosh-2.7.4\r\n",
      "Note: you may need to restart the kernel to use updated packages.\n"
     ]
    }
   ],
   "source": [
    "pip install ktrain"
   ]
  },
  {
   "cell_type": "code",
   "execution_count": 17,
   "id": "4f8acf04",
   "metadata": {
    "execution": {
     "iopub.execute_input": "2023-09-30T17:46:29.541436Z",
     "iopub.status.busy": "2023-09-30T17:46:29.541147Z",
     "iopub.status.idle": "2023-09-30T17:46:29.584764Z",
     "shell.execute_reply": "2023-09-30T17:46:29.583566Z"
    },
    "papermill": {
     "duration": 0.054861,
     "end_time": "2023-09-30T17:46:29.586495",
     "exception": false,
     "start_time": "2023-09-30T17:46:29.531634",
     "status": "completed"
    },
    "tags": []
   },
   "outputs": [
    {
     "name": "stdout",
     "output_type": "stream",
     "text": [
      "10787\n"
     ]
    }
   ],
   "source": [
    "longest_string = max(df['Data'], key=len)\n",
    "print(len(longest_string))"
   ]
  },
  {
   "cell_type": "code",
   "execution_count": 18,
   "id": "23501cf6",
   "metadata": {
    "execution": {
     "iopub.execute_input": "2023-09-30T17:46:29.604050Z",
     "iopub.status.busy": "2023-09-30T17:46:29.603811Z",
     "iopub.status.idle": "2023-09-30T17:47:00.426942Z",
     "shell.execute_reply": "2023-09-30T17:47:00.425997Z"
    },
    "id": "fe9e61fb",
    "papermill": {
     "duration": 30.834378,
     "end_time": "2023-09-30T17:47:00.429244",
     "exception": false,
     "start_time": "2023-09-30T17:46:29.594866",
     "status": "completed"
    },
    "scrolled": true,
    "tags": []
   },
   "outputs": [
    {
     "data": {
      "application/vnd.jupyter.widget-view+json": {
       "model_id": "ded7ca7145c34bf29936feda5bca7d92",
       "version_major": 2,
       "version_minor": 0
      },
      "text/plain": [
       "Downloading (…)lve/main/config.json:   0%|          | 0.00/615 [00:00<?, ?B/s]"
      ]
     },
     "metadata": {},
     "output_type": "display_data"
    },
    {
     "data": {
      "application/vnd.jupyter.widget-view+json": {
       "model_id": "914097935c8543fc9ba0047f603fb259",
       "version_major": 2,
       "version_minor": 0
      },
      "text/plain": [
       "Downloading (…)lve/main/config.json:   0%|          | 0.00/512 [00:00<?, ?B/s]"
      ]
     },
     "metadata": {},
     "output_type": "display_data"
    },
    {
     "data": {
      "application/vnd.jupyter.widget-view+json": {
       "model_id": "82343db1c2964c1ba7051ff71a55698b",
       "version_major": 2,
       "version_minor": 0
      },
      "text/plain": [
       "Downloading tf_model.h5:   0%|          | 0.00/1.89G [00:00<?, ?B/s]"
      ]
     },
     "metadata": {},
     "output_type": "display_data"
    }
   ],
   "source": [
    "import ktrain\n",
    "from ktrain import text\n",
    "MODEL_NAME = 'xlm-roberta-base'\n",
    "t = text.Transformer(MODEL_NAME, maxlen=500)"
   ]
  },
  {
   "cell_type": "code",
   "execution_count": 19,
   "id": "f358691b",
   "metadata": {
    "execution": {
     "iopub.execute_input": "2023-09-30T17:47:00.456635Z",
     "iopub.status.busy": "2023-09-30T17:47:00.456088Z",
     "iopub.status.idle": "2023-09-30T17:48:07.159770Z",
     "shell.execute_reply": "2023-09-30T17:48:07.158829Z"
    },
    "id": "c269013f",
    "outputId": "cb456b25-48e5-4d5c-958b-2198c5418e05",
    "papermill": {
     "duration": 66.719696,
     "end_time": "2023-09-30T17:48:07.162270",
     "exception": false,
     "start_time": "2023-09-30T17:47:00.442574",
     "status": "completed"
    },
    "tags": []
   },
   "outputs": [
    {
     "name": "stdout",
     "output_type": "stream",
     "text": [
      "preprocessing train...\n",
      "language: id\n",
      "train sequence lengths:\n",
      "\tmean : 32\n",
      "\t95percentile : 143\n",
      "\t99percentile : 407\n"
     ]
    },
    {
     "data": {
      "application/vnd.jupyter.widget-view+json": {
       "model_id": "46263abb46be4f6d84354385b3785896",
       "version_major": 2,
       "version_minor": 0
      },
      "text/plain": [
       "Downloading (…)tencepiece.bpe.model:   0%|          | 0.00/5.07M [00:00<?, ?B/s]"
      ]
     },
     "metadata": {},
     "output_type": "display_data"
    },
    {
     "data": {
      "text/html": [
       "\n",
       "<style>\n",
       "    /* Turns off some styling */\n",
       "    progress {\n",
       "        /* gets rid of default border in Firefox and Opera. */\n",
       "        border: none;\n",
       "        /* Needs to be in here for Safari polyfill so background images work as expected. */\n",
       "        background-size: auto;\n",
       "    }\n",
       "    progress:not([value]), progress:not([value])::-webkit-progress-bar {\n",
       "        background: repeating-linear-gradient(45deg, #7e7e7e, #7e7e7e 10px, #5c5c5c 10px, #5c5c5c 20px);\n",
       "    }\n",
       "    .progress-bar-interrupted, .progress-bar-interrupted::-webkit-progress-bar {\n",
       "        background: #F44336;\n",
       "    }\n",
       "</style>\n"
      ],
      "text/plain": [
       "<IPython.core.display.HTML object>"
      ]
     },
     "metadata": {},
     "output_type": "display_data"
    },
    {
     "data": {
      "text/html": [],
      "text/plain": [
       "<IPython.core.display.HTML object>"
      ]
     },
     "metadata": {},
     "output_type": "display_data"
    },
    {
     "name": "stdout",
     "output_type": "stream",
     "text": [
      "Is Multi-Label? False\n",
      "preprocessing test...\n",
      "language: id\n",
      "test sequence lengths:\n",
      "\tmean : 31\n",
      "\t95percentile : 144\n",
      "\t99percentile : 394\n"
     ]
    },
    {
     "data": {
      "text/html": [
       "\n",
       "<style>\n",
       "    /* Turns off some styling */\n",
       "    progress {\n",
       "        /* gets rid of default border in Firefox and Opera. */\n",
       "        border: none;\n",
       "        /* Needs to be in here for Safari polyfill so background images work as expected. */\n",
       "        background-size: auto;\n",
       "    }\n",
       "    progress:not([value]), progress:not([value])::-webkit-progress-bar {\n",
       "        background: repeating-linear-gradient(45deg, #7e7e7e, #7e7e7e 10px, #5c5c5c 10px, #5c5c5c 20px);\n",
       "    }\n",
       "    .progress-bar-interrupted, .progress-bar-interrupted::-webkit-progress-bar {\n",
       "        background: #F44336;\n",
       "    }\n",
       "</style>\n"
      ],
      "text/plain": [
       "<IPython.core.display.HTML object>"
      ]
     },
     "metadata": {},
     "output_type": "display_data"
    },
    {
     "data": {
      "text/html": [],
      "text/plain": [
       "<IPython.core.display.HTML object>"
      ]
     },
     "metadata": {},
     "output_type": "display_data"
    }
   ],
   "source": [
    "trn = t.preprocess_train(X_train, y_train)\n",
    "val = t.preprocess_test(X_test, y_test)"
   ]
  },
  {
   "cell_type": "code",
   "execution_count": 20,
   "id": "92c1e33c",
   "metadata": {
    "execution": {
     "iopub.execute_input": "2023-09-30T17:48:07.223508Z",
     "iopub.status.busy": "2023-09-30T17:48:07.223179Z",
     "iopub.status.idle": "2023-09-30T17:48:10.378119Z",
     "shell.execute_reply": "2023-09-30T17:48:10.377165Z"
    },
    "id": "69d54231",
    "papermill": {
     "duration": 3.207675,
     "end_time": "2023-09-30T17:48:10.380264",
     "exception": false,
     "start_time": "2023-09-30T17:48:07.172589",
     "status": "completed"
    },
    "scrolled": true,
    "tags": []
   },
   "outputs": [],
   "source": [
    "model = t.get_classifier()"
   ]
  },
  {
   "cell_type": "code",
   "execution_count": 21,
   "id": "4561d7b6",
   "metadata": {
    "execution": {
     "iopub.execute_input": "2023-09-30T17:48:10.400433Z",
     "iopub.status.busy": "2023-09-30T17:48:10.400156Z",
     "iopub.status.idle": "2023-09-30T17:48:13.471968Z",
     "shell.execute_reply": "2023-09-30T17:48:13.470801Z"
    },
    "id": "7070ffb4",
    "papermill": {
     "duration": 3.085127,
     "end_time": "2023-09-30T17:48:13.475184",
     "exception": false,
     "start_time": "2023-09-30T17:48:10.390057",
     "status": "completed"
    },
    "tags": []
   },
   "outputs": [],
   "source": [
    "learner = ktrain.get_learner(model, train_data=trn, val_data=val, batch_size=8)"
   ]
  },
  {
   "cell_type": "code",
   "execution_count": 22,
   "id": "80f5d7dc",
   "metadata": {
    "execution": {
     "iopub.execute_input": "2023-09-30T17:48:13.533125Z",
     "iopub.status.busy": "2023-09-30T17:48:13.532700Z",
     "iopub.status.idle": "2023-10-01T05:19:13.550520Z",
     "shell.execute_reply": "2023-10-01T05:19:13.549499Z"
    },
    "id": "e1e76e69",
    "outputId": "cec6ddcd-1ab2-4f18-a9ad-d4cd29195423",
    "papermill": {
     "duration": 41463.814794,
     "end_time": "2023-10-01T05:19:17.318663",
     "exception": false,
     "start_time": "2023-09-30T17:48:13.503869",
     "status": "completed"
    },
    "tags": []
   },
   "outputs": [
    {
     "name": "stdout",
     "output_type": "stream",
     "text": [
      "\n",
      "\n",
      "begin training using onecycle policy with max lr of 2e-05...\n",
      "Epoch 1/5\n",
      "12909/12909 [==============================] - 8308s 640ms/step - loss: 0.6291 - accuracy: 0.8179 - val_loss: 0.2733 - val_accuracy: 0.9106\n",
      "Epoch 2/5\n",
      "12909/12909 [==============================] - 8276s 641ms/step - loss: 0.2713 - accuracy: 0.9132 - val_loss: 0.2326 - val_accuracy: 0.9270\n",
      "Epoch 3/5\n",
      "12909/12909 [==============================] - 8287s 642ms/step - loss: 0.2283 - accuracy: 0.9256 - val_loss: 0.2316 - val_accuracy: 0.9304\n",
      "Epoch 4/5\n",
      "12909/12909 [==============================] - 8291s 642ms/step - loss: 0.1720 - accuracy: 0.9452 - val_loss: 0.1983 - val_accuracy: 0.9381\n",
      "Epoch 5/5\n",
      "12909/12909 [==============================] - 8298s 643ms/step - loss: 0.1211 - accuracy: 0.9609 - val_loss: 0.1955 - val_accuracy: 0.9435\n"
     ]
    }
   ],
   "source": [
    "history = learner.fit_onecycle(2e-5, 5)"
   ]
  },
  {
   "cell_type": "code",
   "execution_count": 23,
   "id": "b91a9075",
   "metadata": {
    "execution": {
     "iopub.execute_input": "2023-10-01T05:19:23.793040Z",
     "iopub.status.busy": "2023-10-01T05:19:23.791982Z",
     "iopub.status.idle": "2023-10-01T05:28:32.374591Z",
     "shell.execute_reply": "2023-10-01T05:28:32.373625Z"
    },
    "id": "2088a523",
    "papermill": {
     "duration": 551.930197,
     "end_time": "2023-10-01T05:28:32.376444",
     "exception": false,
     "start_time": "2023-10-01T05:19:20.446247",
     "status": "completed"
    },
    "tags": []
   },
   "outputs": [
    {
     "name": "stdout",
     "output_type": "stream",
     "text": [
      "807/807 [==============================] - 548s 676ms/step\n",
      "              precision    recall  f1-score   support\n",
      "\n",
      "     Bengali       0.94      0.95      0.94      1993\n",
      "     English       1.00      1.00      1.00      2000\n",
      "    Gujarati       0.96      0.96      0.96      1993\n",
      "       Hindi       0.93      0.90      0.91      1983\n",
      "     Kannada       0.96      0.95      0.95      1996\n",
      "   Malayalam       0.96      0.92      0.94      1993\n",
      "     Marathi       0.89      0.92      0.91      1988\n",
      "     Punjabi       0.95      0.94      0.94      1991\n",
      "      Sindhi       0.98      0.96      0.97      1992\n",
      "     Sinhala       0.98      0.96      0.97      1991\n",
      "       Tamil       0.95      0.95      0.95      1985\n",
      "      Telugu       0.89      0.92      0.91      1986\n",
      "        Urdu       0.89      0.94      0.92      1927\n",
      "\n",
      "    accuracy                           0.94     25818\n",
      "   macro avg       0.94      0.94      0.94     25818\n",
      "weighted avg       0.94      0.94      0.94     25818\n",
      "\n"
     ]
    }
   ],
   "source": [
    "cm = learner.validate(class_names=t.get_classes())"
   ]
  },
  {
   "cell_type": "code",
   "execution_count": 24,
   "id": "cf606e4b",
   "metadata": {
    "execution": {
     "iopub.execute_input": "2023-10-01T05:28:38.768576Z",
     "iopub.status.busy": "2023-10-01T05:28:38.768234Z",
     "iopub.status.idle": "2023-10-01T05:28:38.774405Z",
     "shell.execute_reply": "2023-10-01T05:28:38.773471Z"
    },
    "id": "001f6712",
    "papermill": {
     "duration": 3.224029,
     "end_time": "2023-10-01T05:28:38.776130",
     "exception": false,
     "start_time": "2023-10-01T05:28:35.552101",
     "status": "completed"
    },
    "tags": []
   },
   "outputs": [],
   "source": [
    "def PlotGraph(history):\n",
    "  acc = history.history['accuracy']\n",
    "  val_acc = history.history['val_accuracy']\n",
    "  loss = history.history['loss']\n",
    "  val_loss = history.history['val_loss']\n",
    "  x = range(1, len(acc) + 1)\n",
    "  plt.figure(figsize=(12, 5))\n",
    "  plt.subplot(1, 2, 1)\n",
    "  plt.plot(x, acc, 'g', label='Training acc')\n",
    "  plt.plot(x, val_acc, 'b', label='Validation acc')\n",
    "  plt.title('Training and validation accuracy')\n",
    "  plt.legend()\n",
    "  plt.subplot(1, 2, 2)\n",
    "  plt.plot(x, loss, 'g', label='Training loss')\n",
    "  plt.plot(x, val_loss, 'b', label='Validation loss')\n",
    "  plt.title('Training and validation loss')\n",
    "  plt.legend()"
   ]
  },
  {
   "cell_type": "code",
   "execution_count": 25,
   "id": "43321ecc",
   "metadata": {
    "execution": {
     "iopub.execute_input": "2023-10-01T05:28:45.968704Z",
     "iopub.status.busy": "2023-10-01T05:28:45.968371Z",
     "iopub.status.idle": "2023-10-01T05:28:46.473991Z",
     "shell.execute_reply": "2023-10-01T05:28:46.473121Z"
    },
    "id": "9f5a8fdb",
    "papermill": {
     "duration": 4.531239,
     "end_time": "2023-10-01T05:28:46.475933",
     "exception": false,
     "start_time": "2023-10-01T05:28:41.944694",
     "status": "completed"
    },
    "scrolled": true,
    "tags": []
   },
   "outputs": [
    {
     "data": {
      "image/png": "[encoded data removed]",
      "text/plain": [
       "<Figure size 1200x500 with 2 Axes>"
      ]
     },
     "metadata": {},
     "output_type": "display_data"
    }
   ],
   "source": [
    "PlotGraph(history)"
   ]
  },
  {
   "cell_type": "code",
   "execution_count": 26,
   "id": "bc930adb",
   "metadata": {
    "execution": {
     "iopub.execute_input": "2023-10-01T05:28:52.978472Z",
     "iopub.status.busy": "2023-10-01T05:28:52.978140Z",
     "iopub.status.idle": "2023-10-01T05:28:52.982695Z",
     "shell.execute_reply": "2023-10-01T05:28:52.981731Z"
    },
    "id": "75e6e8ca",
    "papermill": {
     "duration": 3.250579,
     "end_time": "2023-10-01T05:28:52.984502",
     "exception": false,
     "start_time": "2023-10-01T05:28:49.733923",
     "status": "completed"
    },
    "scrolled": true,
    "tags": []
   },
   "outputs": [],
   "source": [
    "predictor=ktrain.get_predictor(learner.model, preproc=t)"
   ]
  },
  {
   "cell_type": "code",
   "execution_count": 27,
   "id": "d320da11",
   "metadata": {
    "execution": {
     "iopub.execute_input": "2023-10-01T05:28:59.512727Z",
     "iopub.status.busy": "2023-10-01T05:28:59.512398Z",
     "iopub.status.idle": "2023-10-01T05:29:05.230917Z",
     "shell.execute_reply": "2023-10-01T05:29:05.229656Z"
    },
    "papermill": {
     "duration": 8.951912,
     "end_time": "2023-10-01T05:29:05.235212",
     "exception": false,
     "start_time": "2023-10-01T05:28:56.283300",
     "status": "completed"
    },
    "tags": []
   },
   "outputs": [],
   "source": [
    "# Save the trained model\n",
    "learner.save_model('/kaggle/working/lan_det')"
   ]
  },
  {
   "cell_type": "code",
   "execution_count": 28,
   "id": "f82757e8",
   "metadata": {
    "execution": {
     "iopub.execute_input": "2023-10-01T05:29:12.305844Z",
     "iopub.status.busy": "2023-10-01T05:29:12.305490Z",
     "iopub.status.idle": "2023-10-01T05:32:00.417954Z",
     "shell.execute_reply": "2023-10-01T05:32:00.416818Z"
    },
    "papermill": {
     "duration": 174.358174,
     "end_time": "2023-10-01T05:32:03.305832",
     "exception": false,
     "start_time": "2023-10-01T05:29:08.947658",
     "status": "completed"
    },
    "tags": []
   },
   "outputs": [
    {
     "name": "stdout",
     "output_type": "stream",
     "text": [
      "huggingface/tokenizers: The current process just got forked, after parallelism has already been used. Disabling parallelism to avoid deadlocks...\n",
      "To disable this warning, you can either:\n",
      "\t- Avoid using `tokenizers` before the fork if possible\n",
      "\t- Explicitly set the environment variable TOKENIZERS_PARALLELISM=(true | false)\n",
      "  adding: kaggle/working/lan_det/ (stored 0%)\r\n",
      "  adding: kaggle/working/lan_det/tf_model.h5 (deflated 27%)\r\n",
      "  adding: kaggle/working/lan_det/config.json (deflated 58%)\r\n"
     ]
    }
   ],
   "source": [
    "!zip -r mental.zip /kaggle/working/lan_det"
   ]
  },
  {
   "cell_type": "code",
   "execution_count": null,
   "id": "32a39242",
   "metadata": {
    "id": "RjxJrO1JZfNt",
    "papermill": {
     "duration": 3.165725,
     "end_time": "2023-10-01T05:32:09.710577",
     "exception": false,
     "start_time": "2023-10-01T05:32:06.544852",
     "status": "completed"
    },
    "tags": []
   },
   "outputs": [],
   "source": []
  },
  {
   "cell_type": "code",
   "execution_count": null,
   "id": "47ddced4",
   "metadata": {
    "papermill": {
     "duration": 3.253655,
     "end_time": "2023-10-01T05:32:16.129691",
     "exception": false,
     "start_time": "2023-10-01T05:32:12.876036",
     "status": "completed"
    },
    "tags": []
   },
   "outputs": [],
   "source": []
  }
 ],
 "metadata": {
  "kernelspec": {
   "display_name": "Python 3",
   "language": "python",
   "name": "python3"
  },
  "language_info": {
   "codemirror_mode": {
    "name": "ipython",
    "version": 3
   },
   "file_extension": ".py",
   "mimetype": "text/x-python",
   "name": "python",
   "nbconvert_exporter": "python",
   "pygments_lexer": "ipython3",
   "version": "3.10.12"
  },
  "papermill": {
   "default_parameters": {},
   "duration": 42594.37599,
   "end_time": "2023-10-01T05:32:22.501428",
   "environment_variables": {},
   "exception": null,
   "input_path": "__notebook__.ipynb",
   "output_path": "__notebook__.ipynb",
   "parameters": {},
   "start_time": "2023-09-30T17:42:28.125438",
   "version": "2.4.0"
  },
  "widgets": {
   "application/vnd.jupyter.widget-state+json": {
    "state": {
     "0916fd0f46b143d89a6b42059b33c985": {
      "model_module": "@jupyter-widgets/controls",
      "model_module_version": "1.5.0",
      "model_name": "HTMLModel",
      "state": {
       "_dom_classes": [],
       "_model_module": "@jupyter-widgets/controls",
       "_model_module_version": "1.5.0",
       "_model_name": "HTMLModel",
       "_view_count": null,
       "_view_module": "@jupyter-widgets/controls",
       "_view_module_version": "1.5.0",
       "_view_name": "HTMLView",
       "description": "",
       "description_tooltip": null,
       "layout": "IPY_MODEL_2635418e9d764372bf902d17c5ac9270",
       "placeholder": "​",
       "style": "IPY_MODEL_648c47fac37b4243bca7226868469c3a",
       "value": " 5.07M/5.07M [00:00&lt;00:00, 15.6MB/s]"
      }
     },
     "0a4d292189fd4ac69b7bcdef9fe7e428": {
      "model_module": "@jupyter-widgets/controls",
      "model_module_version": "1.5.0",
      "model_name": "FloatProgressModel",
      "state": {
       "_dom_classes": [],
       "_model_module": "@jupyter-widgets/controls",
       "_model_module_version": "1.5.0",
       "_model_name": "FloatProgressModel",
       "_view_count": null,
       "_view_module": "@jupyter-widgets/controls",
       "_view_module_version": "1.5.0",
       "_view_name": "ProgressView",
       "bar_style": "success",
       "description": "",
       "description_tooltip": null,
       "layout": "IPY_MODEL_1f7b76054c1d460c9781e3fa215cf339",
       "max": 5069051.0,
       "min": 0.0,
       "orientation": "horizontal",
       "style": "IPY_MODEL_a782b90dbd3d435786c7806284b6998b",
       "value": 5069051.0
      }
     },
     "1412d9da47074f57bb87323fd506f663": {
      "model_module": "@jupyter-widgets/base",
      "model_module_version": "1.2.0",
      "model_name": "LayoutModel",
      "state": {
       "_model_module": "@jupyter-widgets/base",
       "_model_module_version": "1.2.0",
       "_model_name": "LayoutModel",
       "_view_count": null,
       "_view_module": "@jupyter-widgets/base",
       "_view_module_version": "1.2.0",
       "_view_name": "LayoutView",
       "align_content": null,
       "align_items": null,
       "align_self": null,
       "border": null,
       "bottom": null,
       "display": null,
       "flex": null,
       "flex_flow": null,
       "grid_area": null,
       "grid_auto_columns": null,
       "grid_auto_flow": null,
       "grid_auto_rows": null,
       "grid_column": null,
       "grid_gap": null,
       "grid_row": null,
       "grid_template_areas": null,
       "grid_template_columns": null,
       "grid_template_rows": null,
       "height": null,
       "justify_content": null,
       "justify_items": null,
       "left": null,
       "margin": null,
       "max_height": null,
       "max_width": null,
       "min_height": null,
       "min_width": null,
       "object_fit": null,
       "object_position": null,
       "order": null,
       "overflow": null,
       "overflow_x": null,
       "overflow_y": null,
       "padding": null,
       "right": null,
       "top": null,
       "visibility": null,
       "width": null
      }
     },
     "1a631bd5cb504e1986cbe392a99da502": {
      "model_module": "@jupyter-widgets/controls",
      "model_module_version": "1.5.0",
      "model_name": "HTMLModel",
      "state": {
       "_dom_classes": [],
       "_model_module": "@jupyter-widgets/controls",
       "_model_module_version": "1.5.0",
       "_model_name": "HTMLModel",
       "_view_count": null,
       "_view_module": "@jupyter-widgets/controls",
       "_view_module_version": "1.5.0",
       "_view_name": "HTMLView",
       "description": "",
       "description_tooltip": null,
       "layout": "IPY_MODEL_f4b405e215404183b24399e7ee347e74",
       "placeholder": "​",
       "style": "IPY_MODEL_6a4b2ac525fb4e6ab221e1a1bf9b2eae",
       "value": "Downloading (…)lve/main/config.json: 100%"
      }
     },
     "1dc44343a93f4b93ae3bfa67787a568c": {
      "model_module": "@jupyter-widgets/controls",
      "model_module_version": "1.5.0",
      "model_name": "DescriptionStyleModel",
      "state": {
       "_model_module": "@jupyter-widgets/controls",
       "_model_module_version": "1.5.0",
       "_model_name": "DescriptionStyleModel",
       "_view_count": null,
       "_view_module": "@jupyter-widgets/base",
       "_view_module_version": "1.2.0",
       "_view_name": "StyleView",
       "description_width": ""
      }
     },
     "1f7b76054c1d460c9781e3fa215cf339": {
      "model_module": "@jupyter-widgets/base",
      "model_module_version": "1.2.0",
      "model_name": "LayoutModel",
      "state": {
       "_model_module": "@jupyter-widgets/base",
       "_model_module_version": "1.2.0",
       "_model_name": "LayoutModel",
       "_view_count": null,
       "_view_module": "@jupyter-widgets/base",
       "_view_module_version": "1.2.0",
       "_view_name": "LayoutView",
       "align_content": null,
       "align_items": null,
       "align_self": null,
       "border": null,
       "bottom": null,
       "display": null,
       "flex": null,
       "flex_flow": null,
       "grid_area": null,
       "grid_auto_columns": null,
       "grid_auto_flow": null,
       "grid_auto_rows": null,
       "grid_column": null,
       "grid_gap": null,
       "grid_row": null,
       "grid_template_areas": null,
       "grid_template_columns": null,
       "grid_template_rows": null,
       "height": null,
       "justify_content": null,
       "justify_items": null,
       "left": null,
       "margin": null,
       "max_height": null,
       "max_width": null,
       "min_height": null,
       "min_width": null,
       "object_fit": null,
       "object_position": null,
       "order": null,
       "overflow": null,
       "overflow_x": null,
       "overflow_y": null,
       "padding": null,
       "right": null,
       "top": null,
       "visibility": null,
       "width": null
      }
     },
     "2635418e9d764372bf902d17c5ac9270": {
      "model_module": "@jupyter-widgets/base",
      "model_module_version": "1.2.0",
      "model_name": "LayoutModel",
      "state": {
       "_model_module": "@jupyter-widgets/base",
       "_model_module_version": "1.2.0",
       "_model_name": "LayoutModel",
       "_view_count": null,
       "_view_module": "@jupyter-widgets/base",
       "_view_module_version": "1.2.0",
       "_view_name": "LayoutView",
       "align_content": null,
       "align_items": null,
       "align_self": null,
       "border": null,
       "bottom": null,
       "display": null,
       "flex": null,
       "flex_flow": null,
       "grid_area": null,
       "grid_auto_columns": null,
       "grid_auto_flow": null,
       "grid_auto_rows": null,
       "grid_column": null,
       "grid_gap": null,
       "grid_row": null,
       "grid_template_areas": null,
       "grid_template_columns": null,
       "grid_template_rows": null,
       "height": null,
       "justify_content": null,
       "justify_items": null,
       "left": null,
       "margin": null,
       "max_height": null,
       "max_width": null,
       "min_height": null,
       "min_width": null,
       "object_fit": null,
       "object_position": null,
       "order": null,
       "overflow": null,
       "overflow_x": null,
       "overflow_y": null,
       "padding": null,
       "right": null,
       "top": null,
       "visibility": null,
       "width": null
      }
     },
     "270358786d4a443ebb2d236b836d222b": {
      "model_module": "@jupyter-widgets/controls",
      "model_module_version": "1.5.0",
      "model_name": "HTMLModel",
      "state": {
       "_dom_classes": [],
       "_model_module": "@jupyter-widgets/controls",
       "_model_module_version": "1.5.0",
       "_model_name": "HTMLModel",
       "_view_count": null,
       "_view_module": "@jupyter-widgets/controls",
       "_view_module_version": "1.5.0",
       "_view_name": "HTMLView",
       "description": "",
       "description_tooltip": null,
       "layout": "IPY_MODEL_6fb3c1788ea241c28085e530b5a44fc5",
       "placeholder": "​",
       "style": "IPY_MODEL_59429721f9af406a9e8e97c8957be720",
       "value": "Downloading (…)tencepiece.bpe.model: 100%"
      }
     },
     "2720785a4c1f4f3ea10f4f7d59cad08a": {
      "model_module": "@jupyter-widgets/base",
      "model_module_version": "1.2.0",
      "model_name": "LayoutModel",
      "state": {
       "_model_module": "@jupyter-widgets/base",
       "_model_module_version": "1.2.0",
       "_model_name": "LayoutModel",
       "_view_count": null,
       "_view_module": "@jupyter-widgets/base",
       "_view_module_version": "1.2.0",
       "_view_name": "LayoutView",
       "align_content": null,
       "align_items": null,
       "align_self": null,
       "border": null,
       "bottom": null,
       "display": null,
       "flex": null,
       "flex_flow": null,
       "grid_area": null,
       "grid_auto_columns": null,
       "grid_auto_flow": null,
       "grid_auto_rows": null,
       "grid_column": null,
       "grid_gap": null,
       "grid_row": null,
       "grid_template_areas": null,
       "grid_template_columns": null,
       "grid_template_rows": null,
       "height": null,
       "justify_content": null,
       "justify_items": null,
       "left": null,
       "margin": null,
       "max_height": null,
       "max_width": null,
       "min_height": null,
       "min_width": null,
       "object_fit": null,
       "object_position": null,
       "order": null,
       "overflow": null,
       "overflow_x": null,
       "overflow_y": null,
       "padding": null,
       "right": null,
       "top": null,
       "visibility": null,
       "width": null
      }
     },
     "29054218ddf94b4bb152750ee482bd5d": {
      "model_module": "@jupyter-widgets/controls",
      "model_module_version": "1.5.0",
      "model_name": "DescriptionStyleModel",
      "state": {
       "_model_module": "@jupyter-widgets/controls",
       "_model_module_version": "1.5.0",
       "_model_name": "DescriptionStyleModel",
       "_view_count": null,
       "_view_module": "@jupyter-widgets/base",
       "_view_module_version": "1.2.0",
       "_view_name": "StyleView",
       "description_width": ""
      }
     },
     "2e010fcfa8fa4743b2e23367c8692e89": {
      "model_module": "@jupyter-widgets/base",
      "model_module_version": "1.2.0",
      "model_name": "LayoutModel",
      "state": {
       "_model_module": "@jupyter-widgets/base",
       "_model_module_version": "1.2.0",
       "_model_name": "LayoutModel",
       "_view_count": null,
       "_view_module": "@jupyter-widgets/base",
       "_view_module_version": "1.2.0",
       "_view_name": "LayoutView",
       "align_content": null,
       "align_items": null,
       "align_self": null,
       "border": null,
       "bottom": null,
       "display": null,
       "flex": null,
       "flex_flow": null,
       "grid_area": null,
       "grid_auto_columns": null,
       "grid_auto_flow": null,
       "grid_auto_rows": null,
       "grid_column": null,
       "grid_gap": null,
       "grid_row": null,
       "grid_template_areas": null,
       "grid_template_columns": null,
       "grid_template_rows": null,
       "height": null,
       "justify_content": null,
       "justify_items": null,
       "left": null,
       "margin": null,
       "max_height": null,
       "max_width": null,
       "min_height": null,
       "min_width": null,
       "object_fit": null,
       "object_position": null,
       "order": null,
       "overflow": null,
       "overflow_x": null,
       "overflow_y": null,
       "padding": null,
       "right": null,
       "top": null,
       "visibility": null,
       "width": null
      }
     },
     "3951d96cfce946a7a753d26fb704e537": {
      "model_module": "@jupyter-widgets/base",
      "model_module_version": "1.2.0",
      "model_name": "LayoutModel",
      "state": {
       "_model_module": "@jupyter-widgets/base",
       "_model_module_version": "1.2.0",
       "_model_name": "LayoutModel",
       "_view_count": null,
       "_view_module": "@jupyter-widgets/base",
       "_view_module_version": "1.2.0",
       "_view_name": "LayoutView",
       "align_content": null,
       "align_items": null,
       "align_self": null,
       "border": null,
       "bottom": null,
       "display": null,
       "flex": null,
       "flex_flow": null,
       "grid_area": null,
       "grid_auto_columns": null,
       "grid_auto_flow": null,
       "grid_auto_rows": null,
       "grid_column": null,
       "grid_gap": null,
       "grid_row": null,
       "grid_template_areas": null,
       "grid_template_columns": null,
       "grid_template_rows": null,
       "height": null,
       "justify_content": null,
       "justify_items": null,
       "left": null,
       "margin": null,
       "max_height": null,
       "max_width": null,
       "min_height": null,
       "min_width": null,
       "object_fit": null,
       "object_position": null,
       "order": null,
       "overflow": null,
       "overflow_x": null,
       "overflow_y": null,
       "padding": null,
       "right": null,
       "top": null,
       "visibility": null,
       "width": null
      }
     },
     "4167595c242648c99378cb90871b6ab6": {
      "model_module": "@jupyter-widgets/controls",
      "model_module_version": "1.5.0",
      "model_name": "HTMLModel",
      "state": {
       "_dom_classes": [],
       "_model_module": "@jupyter-widgets/controls",
       "_model_module_version": "1.5.0",
       "_model_name": "HTMLModel",
       "_view_count": null,
       "_view_module": "@jupyter-widgets/controls",
       "_view_module_version": "1.5.0",
       "_view_name": "HTMLView",
       "description": "",
       "description_tooltip": null,
       "layout": "IPY_MODEL_2720785a4c1f4f3ea10f4f7d59cad08a",
       "placeholder": "​",
       "style": "IPY_MODEL_fb331dc7851942f786b02a23a2536bb6",
       "value": " 1.89G/1.89G [00:06&lt;00:00, 258MB/s]"
      }
     },
     "427689dfbc3a430fb451627136186764": {
      "model_module": "@jupyter-widgets/base",
      "model_module_version": "1.2.0",
      "model_name": "LayoutModel",
      "state": {
       "_model_module": "@jupyter-widgets/base",
       "_model_module_version": "1.2.0",
       "_model_name": "LayoutModel",
       "_view_count": null,
       "_view_module": "@jupyter-widgets/base",
       "_view_module_version": "1.2.0",
       "_view_name": "LayoutView",
       "align_content": null,
       "align_items": null,
       "align_self": null,
       "border": null,
       "bottom": null,
       "display": null,
       "flex": null,
       "flex_flow": null,
       "grid_area": null,
       "grid_auto_columns": null,
       "grid_auto_flow": null,
       "grid_auto_rows": null,
       "grid_column": null,
       "grid_gap": null,
       "grid_row": null,
       "grid_template_areas": null,
       "grid_template_columns": null,
       "grid_template_rows": null,
       "height": null,
       "justify_content": null,
       "justify_items": null,
       "left": null,
       "margin": null,
       "max_height": null,
       "max_width": null,
       "min_height": null,
       "min_width": null,
       "object_fit": null,
       "object_position": null,
       "order": null,
       "overflow": null,
       "overflow_x": null,
       "overflow_y": null,
       "padding": null,
       "right": null,
       "top": null,
       "visibility": null,
       "width": null
      }
     },
     "46263abb46be4f6d84354385b3785896": {
      "model_module": "@jupyter-widgets/controls",
      "model_module_version": "1.5.0",
      "model_name": "HBoxModel",
      "state": {
       "_dom_classes": [],
       "_model_module": "@jupyter-widgets/controls",
       "_model_module_version": "1.5.0",
       "_model_name": "HBoxModel",
       "_view_count": null,
       "_view_module": "@jupyter-widgets/controls",
       "_view_module_version": "1.5.0",
       "_view_name": "HBoxView",
       "box_style": "",
       "children": [
        "IPY_MODEL_270358786d4a443ebb2d236b836d222b",
        "IPY_MODEL_0a4d292189fd4ac69b7bcdef9fe7e428",
        "IPY_MODEL_0916fd0f46b143d89a6b42059b33c985"
       ],
       "layout": "IPY_MODEL_3951d96cfce946a7a753d26fb704e537"
      }
     },
     "523bee0afbbd4591a0260d1c2e1b76a7": {
      "model_module": "@jupyter-widgets/base",
      "model_module_version": "1.2.0",
      "model_name": "LayoutModel",
      "state": {
       "_model_module": "@jupyter-widgets/base",
       "_model_module_version": "1.2.0",
       "_model_name": "LayoutModel",
       "_view_count": null,
       "_view_module": "@jupyter-widgets/base",
       "_view_module_version": "1.2.0",
       "_view_name": "LayoutView",
       "align_content": null,
       "align_items": null,
       "align_self": null,
       "border": null,
       "bottom": null,
       "display": null,
       "flex": null,
       "flex_flow": null,
       "grid_area": null,
       "grid_auto_columns": null,
       "grid_auto_flow": null,
       "grid_auto_rows": null,
       "grid_column": null,
       "grid_gap": null,
       "grid_row": null,
       "grid_template_areas": null,
       "grid_template_columns": null,
       "grid_template_rows": null,
       "height": null,
       "justify_content": null,
       "justify_items": null,
       "left": null,
       "margin": null,
       "max_height": null,
       "max_width": null,
       "min_height": null,
       "min_width": null,
       "object_fit": null,
       "object_position": null,
       "order": null,
       "overflow": null,
       "overflow_x": null,
       "overflow_y": null,
       "padding": null,
       "right": null,
       "top": null,
       "visibility": null,
       "width": null
      }
     },
     "542edbd5ae4e423aa24619da475deb74": {
      "model_module": "@jupyter-widgets/controls",
      "model_module_version": "1.5.0",
      "model_name": "ProgressStyleModel",
      "state": {
       "_model_module": "@jupyter-widgets/controls",
       "_model_module_version": "1.5.0",
       "_model_name": "ProgressStyleModel",
       "_view_count": null,
       "_view_module": "@jupyter-widgets/base",
       "_view_module_version": "1.2.0",
       "_view_name": "StyleView",
       "bar_color": null,
       "description_width": ""
      }
     },
     "57cb861f81294a20a79b8c4263a5ff38": {
      "model_module": "@jupyter-widgets/base",
      "model_module_version": "1.2.0",
      "model_name": "LayoutModel",
      "state": {
       "_model_module": "@jupyter-widgets/base",
       "_model_module_version": "1.2.0",
       "_model_name": "LayoutModel",
       "_view_count": null,
       "_view_module": "@jupyter-widgets/base",
       "_view_module_version": "1.2.0",
       "_view_name": "LayoutView",
       "align_content": null,
       "align_items": null,
       "align_self": null,
       "border": null,
       "bottom": null,
       "display": null,
       "flex": null,
       "flex_flow": null,
       "grid_area": null,
       "grid_auto_columns": null,
       "grid_auto_flow": null,
       "grid_auto_rows": null,
       "grid_column": null,
       "grid_gap": null,
       "grid_row": null,
       "grid_template_areas": null,
       "grid_template_columns": null,
       "grid_template_rows": null,
       "height": null,
       "justify_content": null,
       "justify_items": null,
       "left": null,
       "margin": null,
       "max_height": null,
       "max_width": null,
       "min_height": null,
       "min_width": null,
       "object_fit": null,
       "object_position": null,
       "order": null,
       "overflow": null,
       "overflow_x": null,
       "overflow_y": null,
       "padding": null,
       "right": null,
       "top": null,
       "visibility": null,
       "width": null
      }
     },
     "59429721f9af406a9e8e97c8957be720": {
      "model_module": "@jupyter-widgets/controls",
      "model_module_version": "1.5.0",
      "model_name": "DescriptionStyleModel",
      "state": {
       "_model_module": "@jupyter-widgets/controls",
       "_model_module_version": "1.5.0",
       "_model_name": "DescriptionStyleModel",
       "_view_count": null,
       "_view_module": "@jupyter-widgets/base",
       "_view_module_version": "1.2.0",
       "_view_name": "StyleView",
       "description_width": ""
      }
     },
     "5ff74f10af3448468ea8cf18cfcda691": {
      "model_module": "@jupyter-widgets/controls",
      "model_module_version": "1.5.0",
      "model_name": "HTMLModel",
      "state": {
       "_dom_classes": [],
       "_model_module": "@jupyter-widgets/controls",
       "_model_module_version": "1.5.0",
       "_model_name": "HTMLModel",
       "_view_count": null,
       "_view_module": "@jupyter-widgets/controls",
       "_view_module_version": "1.5.0",
       "_view_name": "HTMLView",
       "description": "",
       "description_tooltip": null,
       "layout": "IPY_MODEL_523bee0afbbd4591a0260d1c2e1b76a7",
       "placeholder": "​",
       "style": "IPY_MODEL_29054218ddf94b4bb152750ee482bd5d",
       "value": "Downloading (…)lve/main/config.json: 100%"
      }
     },
     "648c47fac37b4243bca7226868469c3a": {
      "model_module": "@jupyter-widgets/controls",
      "model_module_version": "1.5.0",
      "model_name": "DescriptionStyleModel",
      "state": {
       "_model_module": "@jupyter-widgets/controls",
       "_model_module_version": "1.5.0",
       "_model_name": "DescriptionStyleModel",
       "_view_count": null,
       "_view_module": "@jupyter-widgets/base",
       "_view_module_version": "1.2.0",
       "_view_name": "StyleView",
       "description_width": ""
      }
     },
     "69bb88c1c6c54213893d9a5a85d2faa0": {
      "model_module": "@jupyter-widgets/base",
      "model_module_version": "1.2.0",
      "model_name": "LayoutModel",
      "state": {
       "_model_module": "@jupyter-widgets/base",
       "_model_module_version": "1.2.0",
       "_model_name": "LayoutModel",
       "_view_count": null,
       "_view_module": "@jupyter-widgets/base",
       "_view_module_version": "1.2.0",
       "_view_name": "LayoutView",
       "align_content": null,
       "align_items": null,
       "align_self": null,
       "border": null,
       "bottom": null,
       "display": null,
       "flex": null,
       "flex_flow": null,
       "grid_area": null,
       "grid_auto_columns": null,
       "grid_auto_flow": null,
       "grid_auto_rows": null,
       "grid_column": null,
       "grid_gap": null,
       "grid_row": null,
       "grid_template_areas": null,
       "grid_template_columns": null,
       "grid_template_rows": null,
       "height": null,
       "justify_content": null,
       "justify_items": null,
       "left": null,
       "margin": null,
       "max_height": null,
       "max_width": null,
       "min_height": null,
       "min_width": null,
       "object_fit": null,
       "object_position": null,
       "order": null,
       "overflow": null,
       "overflow_x": null,
       "overflow_y": null,
       "padding": null,
       "right": null,
       "top": null,
       "visibility": null,
       "width": null
      }
     },
     "6a4b2ac525fb4e6ab221e1a1bf9b2eae": {
      "model_module": "@jupyter-widgets/controls",
      "model_module_version": "1.5.0",
      "model_name": "DescriptionStyleModel",
      "state": {
       "_model_module": "@jupyter-widgets/controls",
       "_model_module_version": "1.5.0",
       "_model_name": "DescriptionStyleModel",
       "_view_count": null,
       "_view_module": "@jupyter-widgets/base",
       "_view_module_version": "1.2.0",
       "_view_name": "StyleView",
       "description_width": ""
      }
     },
     "6b752a0941d64e879a79f741fabb4302": {
      "model_module": "@jupyter-widgets/controls",
      "model_module_version": "1.5.0",
      "model_name": "HTMLModel",
      "state": {
       "_dom_classes": [],
       "_model_module": "@jupyter-widgets/controls",
       "_model_module_version": "1.5.0",
       "_model_name": "HTMLModel",
       "_view_count": null,
       "_view_module": "@jupyter-widgets/controls",
       "_view_module_version": "1.5.0",
       "_view_name": "HTMLView",
       "description": "",
       "description_tooltip": null,
       "layout": "IPY_MODEL_c899446b16fd443f8e79814d2e222eda",
       "placeholder": "​",
       "style": "IPY_MODEL_1dc44343a93f4b93ae3bfa67787a568c",
       "value": " 512/512 [00:00&lt;00:00, 46.7kB/s]"
      }
     },
     "6f462a255a0c4bbfb299c2a9ceb9dffe": {
      "model_module": "@jupyter-widgets/base",
      "model_module_version": "1.2.0",
      "model_name": "LayoutModel",
      "state": {
       "_model_module": "@jupyter-widgets/base",
       "_model_module_version": "1.2.0",
       "_model_name": "LayoutModel",
       "_view_count": null,
       "_view_module": "@jupyter-widgets/base",
       "_view_module_version": "1.2.0",
       "_view_name": "LayoutView",
       "align_content": null,
       "align_items": null,
       "align_self": null,
       "border": null,
       "bottom": null,
       "display": null,
       "flex": null,
       "flex_flow": null,
       "grid_area": null,
       "grid_auto_columns": null,
       "grid_auto_flow": null,
       "grid_auto_rows": null,
       "grid_column": null,
       "grid_gap": null,
       "grid_row": null,
       "grid_template_areas": null,
       "grid_template_columns": null,
       "grid_template_rows": null,
       "height": null,
       "justify_content": null,
       "justify_items": null,
       "left": null,
       "margin": null,
       "max_height": null,
       "max_width": null,
       "min_height": null,
       "min_width": null,
       "object_fit": null,
       "object_position": null,
       "order": null,
       "overflow": null,
       "overflow_x": null,
       "overflow_y": null,
       "padding": null,
       "right": null,
       "top": null,
       "visibility": null,
       "width": null
      }
     },
     "6fb3c1788ea241c28085e530b5a44fc5": {
      "model_module": "@jupyter-widgets/base",
      "model_module_version": "1.2.0",
      "model_name": "LayoutModel",
      "state": {
       "_model_module": "@jupyter-widgets/base",
       "_model_module_version": "1.2.0",
       "_model_name": "LayoutModel",
       "_view_count": null,
       "_view_module": "@jupyter-widgets/base",
       "_view_module_version": "1.2.0",
       "_view_name": "LayoutView",
       "align_content": null,
       "align_items": null,
       "align_self": null,
       "border": null,
       "bottom": null,
       "display": null,
       "flex": null,
       "flex_flow": null,
       "grid_area": null,
       "grid_auto_columns": null,
       "grid_auto_flow": null,
       "grid_auto_rows": null,
       "grid_column": null,
       "grid_gap": null,
       "grid_row": null,
       "grid_template_areas": null,
       "grid_template_columns": null,
       "grid_template_rows": null,
       "height": null,
       "justify_content": null,
       "justify_items": null,
       "left": null,
       "margin": null,
       "max_height": null,
       "max_width": null,
       "min_height": null,
       "min_width": null,
       "object_fit": null,
       "object_position": null,
       "order": null,
       "overflow": null,
       "overflow_x": null,
       "overflow_y": null,
       "padding": null,
       "right": null,
       "top": null,
       "visibility": null,
       "width": null
      }
     },
     "82343db1c2964c1ba7051ff71a55698b": {
      "model_module": "@jupyter-widgets/controls",
      "model_module_version": "1.5.0",
      "model_name": "HBoxModel",
      "state": {
       "_dom_classes": [],
       "_model_module": "@jupyter-widgets/controls",
       "_model_module_version": "1.5.0",
       "_model_name": "HBoxModel",
       "_view_count": null,
       "_view_module": "@jupyter-widgets/controls",
       "_view_module_version": "1.5.0",
       "_view_name": "HBoxView",
       "box_style": "",
       "children": [
        "IPY_MODEL_ca3de13cee4a4d8c8c3dcbc773a70ffe",
        "IPY_MODEL_82dd82c5136a4315929ded1d7b41080c",
        "IPY_MODEL_4167595c242648c99378cb90871b6ab6"
       ],
       "layout": "IPY_MODEL_57cb861f81294a20a79b8c4263a5ff38"
      }
     },
     "82dd82c5136a4315929ded1d7b41080c": {
      "model_module": "@jupyter-widgets/controls",
      "model_module_version": "1.5.0",
      "model_name": "FloatProgressModel",
      "state": {
       "_dom_classes": [],
       "_model_module": "@jupyter-widgets/controls",
       "_model_module_version": "1.5.0",
       "_model_name": "FloatProgressModel",
       "_view_count": null,
       "_view_module": "@jupyter-widgets/controls",
       "_view_module_version": "1.5.0",
       "_view_name": "ProgressView",
       "bar_style": "success",
       "description": "",
       "description_tooltip": null,
       "layout": "IPY_MODEL_1412d9da47074f57bb87323fd506f663",
       "max": 1885418496.0,
       "min": 0.0,
       "orientation": "horizontal",
       "style": "IPY_MODEL_542edbd5ae4e423aa24619da475deb74",
       "value": 1885418496.0
      }
     },
     "87bd9beab5ec44f6bc79f7bb298ead68": {
      "model_module": "@jupyter-widgets/controls",
      "model_module_version": "1.5.0",
      "model_name": "FloatProgressModel",
      "state": {
       "_dom_classes": [],
       "_model_module": "@jupyter-widgets/controls",
       "_model_module_version": "1.5.0",
       "_model_name": "FloatProgressModel",
       "_view_count": null,
       "_view_module": "@jupyter-widgets/controls",
       "_view_module_version": "1.5.0",
       "_view_name": "ProgressView",
       "bar_style": "success",
       "description": "",
       "description_tooltip": null,
       "layout": "IPY_MODEL_d7dfbbf700a04b73a8e79e159c896fb4",
       "max": 512.0,
       "min": 0.0,
       "orientation": "horizontal",
       "style": "IPY_MODEL_dcda4ca43f3d498b8f64d66fbc3d07ec",
       "value": 512.0
      }
     },
     "885d8277fe664001923c27cb8af77578": {
      "model_module": "@jupyter-widgets/controls",
      "model_module_version": "1.5.0",
      "model_name": "FloatProgressModel",
      "state": {
       "_dom_classes": [],
       "_model_module": "@jupyter-widgets/controls",
       "_model_module_version": "1.5.0",
       "_model_name": "FloatProgressModel",
       "_view_count": null,
       "_view_module": "@jupyter-widgets/controls",
       "_view_module_version": "1.5.0",
       "_view_name": "ProgressView",
       "bar_style": "success",
       "description": "",
       "description_tooltip": null,
       "layout": "IPY_MODEL_6f462a255a0c4bbfb299c2a9ceb9dffe",
       "max": 615.0,
       "min": 0.0,
       "orientation": "horizontal",
       "style": "IPY_MODEL_8a96b5ada8574116a64e56adae4f2739",
       "value": 615.0
      }
     },
     "8a96b5ada8574116a64e56adae4f2739": {
      "model_module": "@jupyter-widgets/controls",
      "model_module_version": "1.5.0",
      "model_name": "ProgressStyleModel",
      "state": {
       "_model_module": "@jupyter-widgets/controls",
       "_model_module_version": "1.5.0",
       "_model_name": "ProgressStyleModel",
       "_view_count": null,
       "_view_module": "@jupyter-widgets/base",
       "_view_module_version": "1.2.0",
       "_view_name": "StyleView",
       "bar_color": null,
       "description_width": ""
      }
     },
     "914097935c8543fc9ba0047f603fb259": {
      "model_module": "@jupyter-widgets/controls",
      "model_module_version": "1.5.0",
      "model_name": "HBoxModel",
      "state": {
       "_dom_classes": [],
       "_model_module": "@jupyter-widgets/controls",
       "_model_module_version": "1.5.0",
       "_model_name": "HBoxModel",
       "_view_count": null,
       "_view_module": "@jupyter-widgets/controls",
       "_view_module_version": "1.5.0",
       "_view_name": "HBoxView",
       "box_style": "",
       "children": [
        "IPY_MODEL_1a631bd5cb504e1986cbe392a99da502",
        "IPY_MODEL_87bd9beab5ec44f6bc79f7bb298ead68",
        "IPY_MODEL_6b752a0941d64e879a79f741fabb4302"
       ],
       "layout": "IPY_MODEL_2e010fcfa8fa4743b2e23367c8692e89"
      }
     },
     "94d1748c454e44f18395b1d2d246f641": {
      "model_module": "@jupyter-widgets/controls",
      "model_module_version": "1.5.0",
      "model_name": "DescriptionStyleModel",
      "state": {
       "_model_module": "@jupyter-widgets/controls",
       "_model_module_version": "1.5.0",
       "_model_name": "DescriptionStyleModel",
       "_view_count": null,
       "_view_module": "@jupyter-widgets/base",
       "_view_module_version": "1.2.0",
       "_view_name": "StyleView",
       "description_width": ""
      }
     },
     "a782b90dbd3d435786c7806284b6998b": {
      "model_module": "@jupyter-widgets/controls",
      "model_module_version": "1.5.0",
      "model_name": "ProgressStyleModel",
      "state": {
       "_model_module": "@jupyter-widgets/controls",
       "_model_module_version": "1.5.0",
       "_model_name": "ProgressStyleModel",
       "_view_count": null,
       "_view_module": "@jupyter-widgets/base",
       "_view_module_version": "1.2.0",
       "_view_name": "StyleView",
       "bar_color": null,
       "description_width": ""
      }
     },
     "abf357e05b3243ec9c4a84faeca40d75": {
      "model_module": "@jupyter-widgets/controls",
      "model_module_version": "1.5.0",
      "model_name": "HTMLModel",
      "state": {
       "_dom_classes": [],
       "_model_module": "@jupyter-widgets/controls",
       "_model_module_version": "1.5.0",
       "_model_name": "HTMLModel",
       "_view_count": null,
       "_view_module": "@jupyter-widgets/controls",
       "_view_module_version": "1.5.0",
       "_view_name": "HTMLView",
       "description": "",
       "description_tooltip": null,
       "layout": "IPY_MODEL_ed266ae27d75442e9e8e67b6446df570",
       "placeholder": "​",
       "style": "IPY_MODEL_94d1748c454e44f18395b1d2d246f641",
       "value": " 615/615 [00:00&lt;00:00, 37.2kB/s]"
      }
     },
     "b426d36b53c64578b123bc7767d9acba": {
      "model_module": "@jupyter-widgets/controls",
      "model_module_version": "1.5.0",
      "model_name": "DescriptionStyleModel",
      "state": {
       "_model_module": "@jupyter-widgets/controls",
       "_model_module_version": "1.5.0",
       "_model_name": "DescriptionStyleModel",
       "_view_count": null,
       "_view_module": "@jupyter-widgets/base",
       "_view_module_version": "1.2.0",
       "_view_name": "StyleView",
       "description_width": ""
      }
     },
     "c899446b16fd443f8e79814d2e222eda": {
      "model_module": "@jupyter-widgets/base",
      "model_module_version": "1.2.0",
      "model_name": "LayoutModel",
      "state": {
       "_model_module": "@jupyter-widgets/base",
       "_model_module_version": "1.2.0",
       "_model_name": "LayoutModel",
       "_view_count": null,
       "_view_module": "@jupyter-widgets/base",
       "_view_module_version": "1.2.0",
       "_view_name": "LayoutView",
       "align_content": null,
       "align_items": null,
       "align_self": null,
       "border": null,
       "bottom": null,
       "display": null,
       "flex": null,
       "flex_flow": null,
       "grid_area": null,
       "grid_auto_columns": null,
       "grid_auto_flow": null,
       "grid_auto_rows": null,
       "grid_column": null,
       "grid_gap": null,
       "grid_row": null,
       "grid_template_areas": null,
       "grid_template_columns": null,
       "grid_template_rows": null,
       "height": null,
       "justify_content": null,
       "justify_items": null,
       "left": null,
       "margin": null,
       "max_height": null,
       "max_width": null,
       "min_height": null,
       "min_width": null,
       "object_fit": null,
       "object_position": null,
       "order": null,
       "overflow": null,
       "overflow_x": null,
       "overflow_y": null,
       "padding": null,
       "right": null,
       "top": null,
       "visibility": null,
       "width": null
      }
     },
     "ca3de13cee4a4d8c8c3dcbc773a70ffe": {
      "model_module": "@jupyter-widgets/controls",
      "model_module_version": "1.5.0",
      "model_name": "HTMLModel",
      "state": {
       "_dom_classes": [],
       "_model_module": "@jupyter-widgets/controls",
       "_model_module_version": "1.5.0",
       "_model_name": "HTMLModel",
       "_view_count": null,
       "_view_module": "@jupyter-widgets/controls",
       "_view_module_version": "1.5.0",
       "_view_name": "HTMLView",
       "description": "",
       "description_tooltip": null,
       "layout": "IPY_MODEL_69bb88c1c6c54213893d9a5a85d2faa0",
       "placeholder": "​",
       "style": "IPY_MODEL_b426d36b53c64578b123bc7767d9acba",
       "value": "Downloading tf_model.h5: 100%"
      }
     },
     "d7dfbbf700a04b73a8e79e159c896fb4": {
      "model_module": "@jupyter-widgets/base",
      "model_module_version": "1.2.0",
      "model_name": "LayoutModel",
      "state": {
       "_model_module": "@jupyter-widgets/base",
       "_model_module_version": "1.2.0",
       "_model_name": "LayoutModel",
       "_view_count": null,
       "_view_module": "@jupyter-widgets/base",
       "_view_module_version": "1.2.0",
       "_view_name": "LayoutView",
       "align_content": null,
       "align_items": null,
       "align_self": null,
       "border": null,
       "bottom": null,
       "display": null,
       "flex": null,
       "flex_flow": null,
       "grid_area": null,
       "grid_auto_columns": null,
       "grid_auto_flow": null,
       "grid_auto_rows": null,
       "grid_column": null,
       "grid_gap": null,
       "grid_row": null,
       "grid_template_areas": null,
       "grid_template_columns": null,
       "grid_template_rows": null,
       "height": null,
       "justify_content": null,
       "justify_items": null,
       "left": null,
       "margin": null,
       "max_height": null,
       "max_width": null,
       "min_height": null,
       "min_width": null,
       "object_fit": null,
       "object_position": null,
       "order": null,
       "overflow": null,
       "overflow_x": null,
       "overflow_y": null,
       "padding": null,
       "right": null,
       "top": null,
       "visibility": null,
       "width": null
      }
     },
     "dcda4ca43f3d498b8f64d66fbc3d07ec": {
      "model_module": "@jupyter-widgets/controls",
      "model_module_version": "1.5.0",
      "model_name": "ProgressStyleModel",
      "state": {
       "_model_module": "@jupyter-widgets/controls",
       "_model_module_version": "1.5.0",
       "_model_name": "ProgressStyleModel",
       "_view_count": null,
       "_view_module": "@jupyter-widgets/base",
       "_view_module_version": "1.2.0",
       "_view_name": "StyleView",
       "bar_color": null,
       "description_width": ""
      }
     },
     "ded7ca7145c34bf29936feda5bca7d92": {
      "model_module": "@jupyter-widgets/controls",
      "model_module_version": "1.5.0",
      "model_name": "HBoxModel",
      "state": {
       "_dom_classes": [],
       "_model_module": "@jupyter-widgets/controls",
       "_model_module_version": "1.5.0",
       "_model_name": "HBoxModel",
       "_view_count": null,
       "_view_module": "@jupyter-widgets/controls",
       "_view_module_version": "1.5.0",
       "_view_name": "HBoxView",
       "box_style": "",
       "children": [
        "IPY_MODEL_5ff74f10af3448468ea8cf18cfcda691",
        "IPY_MODEL_885d8277fe664001923c27cb8af77578",
        "IPY_MODEL_abf357e05b3243ec9c4a84faeca40d75"
       ],
       "layout": "IPY_MODEL_427689dfbc3a430fb451627136186764"
      }
     },
     "ed266ae27d75442e9e8e67b6446df570": {
      "model_module": "@jupyter-widgets/base",
      "model_module_version": "1.2.0",
      "model_name": "LayoutModel",
      "state": {
       "_model_module": "@jupyter-widgets/base",
       "_model_module_version": "1.2.0",
       "_model_name": "LayoutModel",
       "_view_count": null,
       "_view_module": "@jupyter-widgets/base",
       "_view_module_version": "1.2.0",
       "_view_name": "LayoutView",
       "align_content": null,
       "align_items": null,
       "align_self": null,
       "border": null,
       "bottom": null,
       "display": null,
       "flex": null,
       "flex_flow": null,
       "grid_area": null,
       "grid_auto_columns": null,
       "grid_auto_flow": null,
       "grid_auto_rows": null,
       "grid_column": null,
       "grid_gap": null,
       "grid_row": null,
       "grid_template_areas": null,
       "grid_template_columns": null,
       "grid_template_rows": null,
       "height": null,
       "justify_content": null,
       "justify_items": null,
       "left": null,
       "margin": null,
       "max_height": null,
       "max_width": null,
       "min_height": null,
       "min_width": null,
       "object_fit": null,
       "object_position": null,
       "order": null,
       "overflow": null,
       "overflow_x": null,
       "overflow_y": null,
       "padding": null,
       "right": null,
       "top": null,
       "visibility": null,
       "width": null
      }
     },
     "f4b405e215404183b24399e7ee347e74": {
      "model_module": "@jupyter-widgets/base",
      "model_module_version": "1.2.0",
      "model_name": "LayoutModel",
      "state": {
       "_model_module": "@jupyter-widgets/base",
       "_model_module_version": "1.2.0",
       "_model_name": "LayoutModel",
       "_view_count": null,
       "_view_module": "@jupyter-widgets/base",
       "_view_module_version": "1.2.0",
       "_view_name": "LayoutView",
       "align_content": null,
       "align_items": null,
       "align_self": null,
       "border": null,
       "bottom": null,
       "display": null,
       "flex": null,
       "flex_flow": null,
       "grid_area": null,
       "grid_auto_columns": null,
       "grid_auto_flow": null,
       "grid_auto_rows": null,
       "grid_column": null,
       "grid_gap": null,
       "grid_row": null,
       "grid_template_areas": null,
       "grid_template_columns": null,
       "grid_template_rows": null,
       "height": null,
       "justify_content": null,
       "justify_items": null,
       "left": null,
       "margin": null,
       "max_height": null,
       "max_width": null,
       "min_height": null,
       "min_width": null,
       "object_fit": null,
       "object_position": null,
       "order": null,
       "overflow": null,
       "overflow_x": null,
       "overflow_y": null,
       "padding": null,
       "right": null,
       "top": null,
       "visibility": null,
       "width": null
      }
     },
     "fb331dc7851942f786b02a23a2536bb6": {
      "model_module": "@jupyter-widgets/controls",
      "model_module_version": "1.5.0",
      "model_name": "DescriptionStyleModel",
      "state": {
       "_model_module": "@jupyter-widgets/controls",
       "_model_module_version": "1.5.0",
       "_model_name": "DescriptionStyleModel",
       "_view_count": null,
       "_view_module": "@jupyter-widgets/base",
       "_view_module_version": "1.2.0",
       "_view_name": "StyleView",
       "description_width": ""
      }
     }
    },
    "version_major": 2,
    "version_minor": 0
   }
  }
 },
 "nbformat": 4,
 "nbformat_minor": 5
}
